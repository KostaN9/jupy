{
 "cells": [
  {
   "cell_type": "markdown",
   "id": "4f71c395",
   "metadata": {},
   "source": [
    "# *Analiza nesreća prouzrokovanih vatrenim oružjem*"
   ]
  },
  {
   "cell_type": "code",
   "execution_count": 1,
   "id": "bfe99335",
   "metadata": {
    "scrolled": false
   },
   "outputs": [
    {
     "data": {
      "text/html": [
       "        <script type=\"text/javascript\">\n",
       "        window.PlotlyConfig = {MathJaxConfig: 'local'};\n",
       "        if (window.MathJax) {MathJax.Hub.Config({SVG: {font: \"STIX-Web\"}});}\n",
       "        if (typeof require !== 'undefined') {\n",
       "        require.undef(\"plotly\");\n",
       "        requirejs.config({\n",
       "            paths: {\n",
       "                'plotly': ['https://cdn.plot.ly/plotly-2.11.1.min']\n",
       "            }\n",
       "        });\n",
       "        require(['plotly'], function(Plotly) {\n",
       "            window._Plotly = Plotly;\n",
       "        });\n",
       "        }\n",
       "        </script>\n",
       "        "
      ]
     },
     "metadata": {},
     "output_type": "display_data"
    },
    {
     "data": {
      "text/html": [
       "        <script type=\"text/javascript\">\n",
       "        window.PlotlyConfig = {MathJaxConfig: 'local'};\n",
       "        if (window.MathJax) {MathJax.Hub.Config({SVG: {font: \"STIX-Web\"}});}\n",
       "        if (typeof require !== 'undefined') {\n",
       "        require.undef(\"plotly\");\n",
       "        requirejs.config({\n",
       "            paths: {\n",
       "                'plotly': ['https://cdn.plot.ly/plotly-2.11.1.min']\n",
       "            }\n",
       "        });\n",
       "        require(['plotly'], function(Plotly) {\n",
       "            window._Plotly = Plotly;\n",
       "        });\n",
       "        }\n",
       "        </script>\n",
       "        "
      ]
     },
     "metadata": {},
     "output_type": "display_data"
    },
    {
     "data": {
      "text/html": [
       "        <script type=\"text/javascript\">\n",
       "        window.PlotlyConfig = {MathJaxConfig: 'local'};\n",
       "        if (window.MathJax) {MathJax.Hub.Config({SVG: {font: \"STIX-Web\"}});}\n",
       "        if (typeof require !== 'undefined') {\n",
       "        require.undef(\"plotly\");\n",
       "        requirejs.config({\n",
       "            paths: {\n",
       "                'plotly': ['https://cdn.plot.ly/plotly-2.11.1.min']\n",
       "            }\n",
       "        });\n",
       "        require(['plotly'], function(Plotly) {\n",
       "            window._Plotly = Plotly;\n",
       "        });\n",
       "        }\n",
       "        </script>\n",
       "        "
      ]
     },
     "metadata": {},
     "output_type": "display_data"
    }
   ],
   "source": [
    "import pandas as pd\n",
    "import numpy as np\n",
    "import matplotlib.pyplot as plt\n",
    "%matplotlib inline\n",
    "from plotly.offline  import download_plotlyjs,init_notebook_mode,plot, iplot\n",
    "import cufflinks as cf\n",
    "init_notebook_mode(connected = True)\n",
    "cf.go_offline()\n",
    "import datetime as dt\n",
    "import seaborn as sns\n",
    "import plotly.offline as py\n",
    "py.init_notebook_mode(connected=True)\n",
    "import plotly.graph_objs as go\n",
    "import plotly.tools as tls\n",
    "import plotly.figure_factory as ff\n",
    "import plotly.io as pio"
   ]
  },
  {
   "cell_type": "code",
   "execution_count": 25,
   "id": "39363f3f",
   "metadata": {},
   "outputs": [
    {
     "data": {
      "text/html": [
       "<div>\n",
       "<style scoped>\n",
       "    .dataframe tbody tr th:only-of-type {\n",
       "        vertical-align: middle;\n",
       "    }\n",
       "\n",
       "    .dataframe tbody tr th {\n",
       "        vertical-align: top;\n",
       "    }\n",
       "\n",
       "    .dataframe thead th {\n",
       "        text-align: right;\n",
       "    }\n",
       "</style>\n",
       "<table border=\"1\" class=\"dataframe\">\n",
       "  <thead>\n",
       "    <tr style=\"text-align: right;\">\n",
       "      <th></th>\n",
       "      <th>incident_id</th>\n",
       "      <th>date</th>\n",
       "      <th>state</th>\n",
       "      <th>city_or_county</th>\n",
       "      <th>address</th>\n",
       "      <th>n_killed</th>\n",
       "      <th>n_injured</th>\n",
       "      <th>incident_url</th>\n",
       "      <th>source_url</th>\n",
       "      <th>incident_url_fields_missing</th>\n",
       "      <th>...</th>\n",
       "      <th>participant_age</th>\n",
       "      <th>participant_age_group</th>\n",
       "      <th>participant_gender</th>\n",
       "      <th>participant_name</th>\n",
       "      <th>participant_relationship</th>\n",
       "      <th>participant_status</th>\n",
       "      <th>participant_type</th>\n",
       "      <th>sources</th>\n",
       "      <th>state_house_district</th>\n",
       "      <th>state_senate_district</th>\n",
       "    </tr>\n",
       "  </thead>\n",
       "  <tbody>\n",
       "    <tr>\n",
       "      <th>234646</th>\n",
       "      <td>1059523</td>\n",
       "      <td>2018-02-27</td>\n",
       "      <td>Tennessee</td>\n",
       "      <td>Memphis</td>\n",
       "      <td>5490 Fog Hollow Ln</td>\n",
       "      <td>0</td>\n",
       "      <td>2</td>\n",
       "      <td>http://www.gunviolencearchive.org/incident/105...</td>\n",
       "      <td>http://www.wmcactionnews5.com/story/37610874/2...</td>\n",
       "      <td>False</td>\n",
       "      <td>...</td>\n",
       "      <td>NaN</td>\n",
       "      <td>0::Adult 18+||1::Adult 18+</td>\n",
       "      <td>0::Male||1::Male</td>\n",
       "      <td>NaN</td>\n",
       "      <td>NaN</td>\n",
       "      <td>0::Injured||1::Injured</td>\n",
       "      <td>0::Victim||1::Victim</td>\n",
       "      <td>http://www.wmcactionnews5.com/story/37610874/2...</td>\n",
       "      <td>85.0</td>\n",
       "      <td>33.0</td>\n",
       "    </tr>\n",
       "    <tr>\n",
       "      <th>105773</th>\n",
       "      <td>476374</td>\n",
       "      <td>2016-01-01</td>\n",
       "      <td>Florida</td>\n",
       "      <td>Orlando</td>\n",
       "      <td>800 block of South Kirkman Road</td>\n",
       "      <td>0</td>\n",
       "      <td>1</td>\n",
       "      <td>http://www.gunviolencearchive.org/incident/476374</td>\n",
       "      <td>http://www.orlandosentinel.com/news/breaking-n...</td>\n",
       "      <td>False</td>\n",
       "      <td>...</td>\n",
       "      <td>0::9</td>\n",
       "      <td>0::Child 0-11</td>\n",
       "      <td>0::Female</td>\n",
       "      <td>NaN</td>\n",
       "      <td>NaN</td>\n",
       "      <td>0::Injured</td>\n",
       "      <td>0::Victim</td>\n",
       "      <td>http://www.orlandosentinel.com/news/breaking-n...</td>\n",
       "      <td>46.0</td>\n",
       "      <td>12.0</td>\n",
       "    </tr>\n",
       "    <tr>\n",
       "      <th>15297</th>\n",
       "      <td>131393</td>\n",
       "      <td>2014-05-01</td>\n",
       "      <td>Minnesota</td>\n",
       "      <td>Minneapolis</td>\n",
       "      <td>Riverside Avenue and 20th Avenue South</td>\n",
       "      <td>0</td>\n",
       "      <td>0</td>\n",
       "      <td>http://www.gunviolencearchive.org/incident/131393</td>\n",
       "      <td>http://minnesota.cbslocal.com/2014/05/02/u-iss...</td>\n",
       "      <td>False</td>\n",
       "      <td>...</td>\n",
       "      <td>NaN</td>\n",
       "      <td>0::Adult 18+||1::Adult 18+||2::Adult 18+||3::A...</td>\n",
       "      <td>1::Male||2::Male||3::Male</td>\n",
       "      <td>NaN</td>\n",
       "      <td>NaN</td>\n",
       "      <td>0::Unharmed||1::Unharmed||2::Unharmed||3::Unha...</td>\n",
       "      <td>0::Victim||1::Subject-Suspect||2::Subject-Susp...</td>\n",
       "      <td>http://minnesota.cbslocal.com/2014/05/02/u-iss...</td>\n",
       "      <td>NaN</td>\n",
       "      <td>60.0</td>\n",
       "    </tr>\n",
       "    <tr>\n",
       "      <th>31909</th>\n",
       "      <td>176106</td>\n",
       "      <td>2014-08-16</td>\n",
       "      <td>Tennessee</td>\n",
       "      <td>Jackson</td>\n",
       "      <td>Lexington and Boone St</td>\n",
       "      <td>0</td>\n",
       "      <td>1</td>\n",
       "      <td>http://www.gunviolencearchive.org/incident/176106</td>\n",
       "      <td>http://www.jacksonsun.com/story/news/crime/201...</td>\n",
       "      <td>False</td>\n",
       "      <td>...</td>\n",
       "      <td>NaN</td>\n",
       "      <td>0::Adult 18+</td>\n",
       "      <td>0::Male</td>\n",
       "      <td>NaN</td>\n",
       "      <td>NaN</td>\n",
       "      <td>0::Injured</td>\n",
       "      <td>0::Victim</td>\n",
       "      <td>http://www.jacksonsun.com/story/news/crime/201...</td>\n",
       "      <td>80.0</td>\n",
       "      <td>27.0</td>\n",
       "    </tr>\n",
       "    <tr>\n",
       "      <th>88019</th>\n",
       "      <td>407945</td>\n",
       "      <td>2015-09-03</td>\n",
       "      <td>Georgia</td>\n",
       "      <td>Newnan</td>\n",
       "      <td>48 Glenn Street</td>\n",
       "      <td>1</td>\n",
       "      <td>0</td>\n",
       "      <td>http://www.gunviolencearchive.org/incident/407945</td>\n",
       "      <td>http://www.times-herald.com/local/20150804-sho...</td>\n",
       "      <td>False</td>\n",
       "      <td>...</td>\n",
       "      <td>0::33</td>\n",
       "      <td>0::Adult 18+</td>\n",
       "      <td>0::Male</td>\n",
       "      <td>0::Emilio Sanchez-Martinez</td>\n",
       "      <td>NaN</td>\n",
       "      <td>0::Killed</td>\n",
       "      <td>0::Victim</td>\n",
       "      <td>http://www.times-herald.com/local/20150804-sho...</td>\n",
       "      <td>132.0</td>\n",
       "      <td>28.0</td>\n",
       "    </tr>\n",
       "  </tbody>\n",
       "</table>\n",
       "<p>5 rows × 29 columns</p>\n",
       "</div>"
      ],
      "text/plain": [
       "        incident_id        date      state city_or_county  \\\n",
       "234646      1059523  2018-02-27  Tennessee        Memphis   \n",
       "105773       476374  2016-01-01    Florida        Orlando   \n",
       "15297        131393  2014-05-01  Minnesota    Minneapolis   \n",
       "31909        176106  2014-08-16  Tennessee        Jackson   \n",
       "88019        407945  2015-09-03    Georgia         Newnan   \n",
       "\n",
       "                                       address  n_killed  n_injured  \\\n",
       "234646                      5490 Fog Hollow Ln         0          2   \n",
       "105773         800 block of South Kirkman Road         0          1   \n",
       "15297   Riverside Avenue and 20th Avenue South         0          0   \n",
       "31909                   Lexington and Boone St         0          1   \n",
       "88019                          48 Glenn Street         1          0   \n",
       "\n",
       "                                             incident_url  \\\n",
       "234646  http://www.gunviolencearchive.org/incident/105...   \n",
       "105773  http://www.gunviolencearchive.org/incident/476374   \n",
       "15297   http://www.gunviolencearchive.org/incident/131393   \n",
       "31909   http://www.gunviolencearchive.org/incident/176106   \n",
       "88019   http://www.gunviolencearchive.org/incident/407945   \n",
       "\n",
       "                                               source_url  \\\n",
       "234646  http://www.wmcactionnews5.com/story/37610874/2...   \n",
       "105773  http://www.orlandosentinel.com/news/breaking-n...   \n",
       "15297   http://minnesota.cbslocal.com/2014/05/02/u-iss...   \n",
       "31909   http://www.jacksonsun.com/story/news/crime/201...   \n",
       "88019   http://www.times-herald.com/local/20150804-sho...   \n",
       "\n",
       "        incident_url_fields_missing  ...  participant_age  \\\n",
       "234646                        False  ...              NaN   \n",
       "105773                        False  ...             0::9   \n",
       "15297                         False  ...              NaN   \n",
       "31909                         False  ...              NaN   \n",
       "88019                         False  ...            0::33   \n",
       "\n",
       "                                    participant_age_group  \\\n",
       "234646                         0::Adult 18+||1::Adult 18+   \n",
       "105773                                      0::Child 0-11   \n",
       "15297   0::Adult 18+||1::Adult 18+||2::Adult 18+||3::A...   \n",
       "31909                                        0::Adult 18+   \n",
       "88019                                        0::Adult 18+   \n",
       "\n",
       "               participant_gender            participant_name  \\\n",
       "234646           0::Male||1::Male                         NaN   \n",
       "105773                  0::Female                         NaN   \n",
       "15297   1::Male||2::Male||3::Male                         NaN   \n",
       "31909                     0::Male                         NaN   \n",
       "88019                     0::Male  0::Emilio Sanchez-Martinez   \n",
       "\n",
       "        participant_relationship  \\\n",
       "234646                       NaN   \n",
       "105773                       NaN   \n",
       "15297                        NaN   \n",
       "31909                        NaN   \n",
       "88019                        NaN   \n",
       "\n",
       "                                       participant_status  \\\n",
       "234646                             0::Injured||1::Injured   \n",
       "105773                                         0::Injured   \n",
       "15297   0::Unharmed||1::Unharmed||2::Unharmed||3::Unha...   \n",
       "31909                                          0::Injured   \n",
       "88019                                           0::Killed   \n",
       "\n",
       "                                         participant_type  \\\n",
       "234646                               0::Victim||1::Victim   \n",
       "105773                                          0::Victim   \n",
       "15297   0::Victim||1::Subject-Suspect||2::Subject-Susp...   \n",
       "31909                                           0::Victim   \n",
       "88019                                           0::Victim   \n",
       "\n",
       "                                                  sources  \\\n",
       "234646  http://www.wmcactionnews5.com/story/37610874/2...   \n",
       "105773  http://www.orlandosentinel.com/news/breaking-n...   \n",
       "15297   http://minnesota.cbslocal.com/2014/05/02/u-iss...   \n",
       "31909   http://www.jacksonsun.com/story/news/crime/201...   \n",
       "88019   http://www.times-herald.com/local/20150804-sho...   \n",
       "\n",
       "       state_house_district state_senate_district  \n",
       "234646                 85.0                  33.0  \n",
       "105773                 46.0                  12.0  \n",
       "15297                   NaN                  60.0  \n",
       "31909                  80.0                  27.0  \n",
       "88019                 132.0                  28.0  \n",
       "\n",
       "[5 rows x 29 columns]"
      ]
     },
     "execution_count": 25,
     "metadata": {},
     "output_type": "execute_result"
    }
   ],
   "source": [
    "df = pd.read_csv('C:\\\\Users\\\\kosta\\\\gun_violence.csv')\n",
    "df.sample(5)"
   ]
  },
  {
   "cell_type": "code",
   "execution_count": 64,
   "id": "f89d3483",
   "metadata": {
    "scrolled": true
   },
   "outputs": [
    {
     "data": {
      "text/html": [
       "<div>\n",
       "<style scoped>\n",
       "    .dataframe tbody tr th:only-of-type {\n",
       "        vertical-align: middle;\n",
       "    }\n",
       "\n",
       "    .dataframe tbody tr th {\n",
       "        vertical-align: top;\n",
       "    }\n",
       "\n",
       "    .dataframe thead th {\n",
       "        text-align: right;\n",
       "    }\n",
       "</style>\n",
       "<table border=\"1\" class=\"dataframe\">\n",
       "  <thead>\n",
       "    <tr style=\"text-align: right;\">\n",
       "      <th></th>\n",
       "      <th>incident_id</th>\n",
       "      <th>n_killed</th>\n",
       "      <th>n_injured</th>\n",
       "      <th>congressional_district</th>\n",
       "      <th>latitude</th>\n",
       "      <th>longitude</th>\n",
       "      <th>n_guns_involved</th>\n",
       "      <th>godina</th>\n",
       "      <th>povredjeni</th>\n",
       "    </tr>\n",
       "  </thead>\n",
       "  <tbody>\n",
       "    <tr>\n",
       "      <th>count</th>\n",
       "      <td>2.396770e+05</td>\n",
       "      <td>239677.000000</td>\n",
       "      <td>239677.000000</td>\n",
       "      <td>227733.000000</td>\n",
       "      <td>231754.000000</td>\n",
       "      <td>231754.000000</td>\n",
       "      <td>140226.000000</td>\n",
       "      <td>239677.000000</td>\n",
       "      <td>239677.000000</td>\n",
       "    </tr>\n",
       "    <tr>\n",
       "      <th>mean</th>\n",
       "      <td>5.593343e+05</td>\n",
       "      <td>0.252290</td>\n",
       "      <td>0.494007</td>\n",
       "      <td>8.001265</td>\n",
       "      <td>37.546598</td>\n",
       "      <td>-89.338348</td>\n",
       "      <td>1.372442</td>\n",
       "      <td>2015.711629</td>\n",
       "      <td>0.746296</td>\n",
       "    </tr>\n",
       "    <tr>\n",
       "      <th>std</th>\n",
       "      <td>2.931287e+05</td>\n",
       "      <td>0.521779</td>\n",
       "      <td>0.729952</td>\n",
       "      <td>8.480835</td>\n",
       "      <td>5.130763</td>\n",
       "      <td>14.359546</td>\n",
       "      <td>4.678202</td>\n",
       "      <td>1.225870</td>\n",
       "      <td>0.842343</td>\n",
       "    </tr>\n",
       "    <tr>\n",
       "      <th>min</th>\n",
       "      <td>9.211400e+04</td>\n",
       "      <td>0.000000</td>\n",
       "      <td>0.000000</td>\n",
       "      <td>0.000000</td>\n",
       "      <td>19.111400</td>\n",
       "      <td>-171.429000</td>\n",
       "      <td>1.000000</td>\n",
       "      <td>2013.000000</td>\n",
       "      <td>0.000000</td>\n",
       "    </tr>\n",
       "    <tr>\n",
       "      <th>25%</th>\n",
       "      <td>3.085450e+05</td>\n",
       "      <td>0.000000</td>\n",
       "      <td>0.000000</td>\n",
       "      <td>2.000000</td>\n",
       "      <td>33.903400</td>\n",
       "      <td>-94.158725</td>\n",
       "      <td>1.000000</td>\n",
       "      <td>2015.000000</td>\n",
       "      <td>0.000000</td>\n",
       "    </tr>\n",
       "    <tr>\n",
       "      <th>50%</th>\n",
       "      <td>5.435870e+05</td>\n",
       "      <td>0.000000</td>\n",
       "      <td>0.000000</td>\n",
       "      <td>5.000000</td>\n",
       "      <td>38.570600</td>\n",
       "      <td>-86.249600</td>\n",
       "      <td>1.000000</td>\n",
       "      <td>2016.000000</td>\n",
       "      <td>1.000000</td>\n",
       "    </tr>\n",
       "    <tr>\n",
       "      <th>75%</th>\n",
       "      <td>8.172280e+05</td>\n",
       "      <td>0.000000</td>\n",
       "      <td>1.000000</td>\n",
       "      <td>10.000000</td>\n",
       "      <td>41.437375</td>\n",
       "      <td>-80.048625</td>\n",
       "      <td>1.000000</td>\n",
       "      <td>2017.000000</td>\n",
       "      <td>1.000000</td>\n",
       "    </tr>\n",
       "    <tr>\n",
       "      <th>max</th>\n",
       "      <td>1.083472e+06</td>\n",
       "      <td>50.000000</td>\n",
       "      <td>53.000000</td>\n",
       "      <td>53.000000</td>\n",
       "      <td>71.336800</td>\n",
       "      <td>97.433100</td>\n",
       "      <td>400.000000</td>\n",
       "      <td>2018.000000</td>\n",
       "      <td>103.000000</td>\n",
       "    </tr>\n",
       "  </tbody>\n",
       "</table>\n",
       "</div>"
      ],
      "text/plain": [
       "        incident_id       n_killed      n_injured  congressional_district  \\\n",
       "count  2.396770e+05  239677.000000  239677.000000           227733.000000   \n",
       "mean   5.593343e+05       0.252290       0.494007                8.001265   \n",
       "std    2.931287e+05       0.521779       0.729952                8.480835   \n",
       "min    9.211400e+04       0.000000       0.000000                0.000000   \n",
       "25%    3.085450e+05       0.000000       0.000000                2.000000   \n",
       "50%    5.435870e+05       0.000000       0.000000                5.000000   \n",
       "75%    8.172280e+05       0.000000       1.000000               10.000000   \n",
       "max    1.083472e+06      50.000000      53.000000               53.000000   \n",
       "\n",
       "            latitude      longitude  n_guns_involved         godina  \\\n",
       "count  231754.000000  231754.000000    140226.000000  239677.000000   \n",
       "mean       37.546598     -89.338348         1.372442    2015.711629   \n",
       "std         5.130763      14.359546         4.678202       1.225870   \n",
       "min        19.111400    -171.429000         1.000000    2013.000000   \n",
       "25%        33.903400     -94.158725         1.000000    2015.000000   \n",
       "50%        38.570600     -86.249600         1.000000    2016.000000   \n",
       "75%        41.437375     -80.048625         1.000000    2017.000000   \n",
       "max        71.336800      97.433100       400.000000    2018.000000   \n",
       "\n",
       "          povredjeni  \n",
       "count  239677.000000  \n",
       "mean        0.746296  \n",
       "std         0.842343  \n",
       "min         0.000000  \n",
       "25%         0.000000  \n",
       "50%         1.000000  \n",
       "75%         1.000000  \n",
       "max       103.000000  "
      ]
     },
     "execution_count": 64,
     "metadata": {},
     "output_type": "execute_result"
    }
   ],
   "source": [
    "df.describe()"
   ]
  },
  {
   "cell_type": "markdown",
   "id": "4419808b",
   "metadata": {},
   "source": [
    "#### Izbacivanje kolona koje mi za ovu analizu nisu potrebne:"
   ]
  },
  {
   "cell_type": "code",
   "execution_count": 31,
   "id": "65a69bb0",
   "metadata": {},
   "outputs": [],
   "source": [
    "df.drop(columns=['incident_url', 'source_url','incident_url_fields_missing','sources','state_house_district','state_senate_district'],inplace= True)"
   ]
  },
  {
   "cell_type": "code",
   "execution_count": 32,
   "id": "211abfd2",
   "metadata": {},
   "outputs": [],
   "source": [
    "# menjanje kolone u odgovarajuci date format kako bi bila upotrebljiva\n",
    "df['date'] = pd.to_datetime(df['date'])"
   ]
  },
  {
   "cell_type": "code",
   "execution_count": 33,
   "id": "90fc3c48",
   "metadata": {},
   "outputs": [
    {
     "data": {
      "text/plain": [
       "0         2013\n",
       "1         2013\n",
       "2         2013\n",
       "3         2013\n",
       "4         2013\n",
       "          ... \n",
       "239672    2018\n",
       "239673    2018\n",
       "239674    2018\n",
       "239675    2018\n",
       "239676    2018\n",
       "Name: godina, Length: 239677, dtype: int64"
      ]
     },
     "execution_count": 33,
     "metadata": {},
     "output_type": "execute_result"
    }
   ],
   "source": [
    "df['godina'] = df['date'].dt.year\n",
    "df['godina']"
   ]
  },
  {
   "cell_type": "code",
   "execution_count": 34,
   "id": "779ab95e",
   "metadata": {},
   "outputs": [
    {
     "data": {
      "text/html": [
       "<div>\n",
       "<style scoped>\n",
       "    .dataframe tbody tr th:only-of-type {\n",
       "        vertical-align: middle;\n",
       "    }\n",
       "\n",
       "    .dataframe tbody tr th {\n",
       "        vertical-align: top;\n",
       "    }\n",
       "\n",
       "    .dataframe thead th {\n",
       "        text-align: right;\n",
       "    }\n",
       "</style>\n",
       "<table border=\"1\" class=\"dataframe\">\n",
       "  <thead>\n",
       "    <tr style=\"text-align: right;\">\n",
       "      <th></th>\n",
       "      <th>percent_missing</th>\n",
       "    </tr>\n",
       "  </thead>\n",
       "  <tbody>\n",
       "    <tr>\n",
       "      <th>participant_relationship</th>\n",
       "      <td>93.418643</td>\n",
       "    </tr>\n",
       "    <tr>\n",
       "      <th>location_description</th>\n",
       "      <td>82.439283</td>\n",
       "    </tr>\n",
       "    <tr>\n",
       "      <th>participant_name</th>\n",
       "      <td>51.007397</td>\n",
       "    </tr>\n",
       "    <tr>\n",
       "      <th>gun_stolen</th>\n",
       "      <td>41.513370</td>\n",
       "    </tr>\n",
       "    <tr>\n",
       "      <th>gun_type</th>\n",
       "      <td>41.493760</td>\n",
       "    </tr>\n",
       "    <tr>\n",
       "      <th>n_guns_involved</th>\n",
       "      <td>41.493760</td>\n",
       "    </tr>\n",
       "    <tr>\n",
       "      <th>participant_age</th>\n",
       "      <td>38.509327</td>\n",
       "    </tr>\n",
       "    <tr>\n",
       "      <th>notes</th>\n",
       "      <td>33.802576</td>\n",
       "    </tr>\n",
       "    <tr>\n",
       "      <th>participant_age_group</th>\n",
       "      <td>17.573234</td>\n",
       "    </tr>\n",
       "    <tr>\n",
       "      <th>participant_gender</th>\n",
       "      <td>15.171251</td>\n",
       "    </tr>\n",
       "    <tr>\n",
       "      <th>participant_status</th>\n",
       "      <td>11.526346</td>\n",
       "    </tr>\n",
       "    <tr>\n",
       "      <th>participant_type</th>\n",
       "      <td>10.373544</td>\n",
       "    </tr>\n",
       "    <tr>\n",
       "      <th>address</th>\n",
       "      <td>6.883013</td>\n",
       "    </tr>\n",
       "    <tr>\n",
       "      <th>congressional_district</th>\n",
       "      <td>4.983373</td>\n",
       "    </tr>\n",
       "    <tr>\n",
       "      <th>latitude</th>\n",
       "      <td>3.305699</td>\n",
       "    </tr>\n",
       "    <tr>\n",
       "      <th>longitude</th>\n",
       "      <td>3.305699</td>\n",
       "    </tr>\n",
       "    <tr>\n",
       "      <th>incident_characteristics</th>\n",
       "      <td>0.136016</td>\n",
       "    </tr>\n",
       "    <tr>\n",
       "      <th>incident_id</th>\n",
       "      <td>0.000000</td>\n",
       "    </tr>\n",
       "    <tr>\n",
       "      <th>date</th>\n",
       "      <td>0.000000</td>\n",
       "    </tr>\n",
       "    <tr>\n",
       "      <th>n_injured</th>\n",
       "      <td>0.000000</td>\n",
       "    </tr>\n",
       "    <tr>\n",
       "      <th>n_killed</th>\n",
       "      <td>0.000000</td>\n",
       "    </tr>\n",
       "    <tr>\n",
       "      <th>city_or_county</th>\n",
       "      <td>0.000000</td>\n",
       "    </tr>\n",
       "    <tr>\n",
       "      <th>state</th>\n",
       "      <td>0.000000</td>\n",
       "    </tr>\n",
       "    <tr>\n",
       "      <th>godina</th>\n",
       "      <td>0.000000</td>\n",
       "    </tr>\n",
       "  </tbody>\n",
       "</table>\n",
       "</div>"
      ],
      "text/plain": [
       "                          percent_missing\n",
       "participant_relationship        93.418643\n",
       "location_description            82.439283\n",
       "participant_name                51.007397\n",
       "gun_stolen                      41.513370\n",
       "gun_type                        41.493760\n",
       "n_guns_involved                 41.493760\n",
       "participant_age                 38.509327\n",
       "notes                           33.802576\n",
       "participant_age_group           17.573234\n",
       "participant_gender              15.171251\n",
       "participant_status              11.526346\n",
       "participant_type                10.373544\n",
       "address                          6.883013\n",
       "congressional_district           4.983373\n",
       "latitude                         3.305699\n",
       "longitude                        3.305699\n",
       "incident_characteristics         0.136016\n",
       "incident_id                      0.000000\n",
       "date                             0.000000\n",
       "n_injured                        0.000000\n",
       "n_killed                         0.000000\n",
       "city_or_county                   0.000000\n",
       "state                            0.000000\n",
       "godina                           0.000000"
      ]
     },
     "execution_count": 34,
     "metadata": {},
     "output_type": "execute_result"
    }
   ],
   "source": [
    "# pronalazenje procenta vrednosti koje nedostaju po kolonama\n",
    "\n",
    "missing = df.isna().sum() / len(df) * 100\n",
    "missing_value_df = pd.DataFrame({'percent_missing': missing})\n",
    "missing_value_df.sort_values('percent_missing', ascending=False)"
   ]
  },
  {
   "cell_type": "code",
   "execution_count": 8,
   "id": "3fdbfb8a",
   "metadata": {},
   "outputs": [
    {
     "data": {
      "application/vnd.plotly.v1+json": {
       "config": {
        "linkText": "Export to plot.ly",
        "plotlyServerURL": "https://plot.ly",
        "showLink": true
       },
       "data": [
        {
         "marker": {
          "color": "rgba(255, 153, 51, 0.6)",
          "line": {
           "color": "rgba(255, 153, 51, 1.0)",
           "width": 1
          }
         },
         "name": "state",
         "orientation": "v",
         "text": "",
         "type": "bar",
         "x": [
          "Illinois",
          "California",
          "Florida",
          "Texas",
          "Ohio",
          "New York",
          "Pennsylvania",
          "Georgia",
          "North Carolina",
          "Louisiana",
          "Tennessee",
          "South Carolina",
          "Missouri",
          "Michigan",
          "Massachusetts",
          "Virginia",
          "Indiana",
          "Maryland",
          "Alabama",
          "New Jersey",
          "Wisconsin",
          "Kentucky",
          "Mississippi",
          "Oklahoma",
          "Washington"
         ],
         "y": [
          17556,
          16306,
          15029,
          13577,
          10244,
          9712,
          8929,
          8925,
          8739,
          8103,
          7626,
          6939,
          6631,
          6136,
          5981,
          5949,
          5852,
          5798,
          5471,
          5387,
          4787,
          4157,
          3599,
          3455,
          3434
         ]
        }
       ],
       "layout": {
        "legend": {
         "bgcolor": "#151516",
         "font": {
          "color": "#D9D9D9"
         }
        },
        "paper_bgcolor": "#151516",
        "plot_bgcolor": "#151516",
        "template": {
         "data": {
          "bar": [
           {
            "error_x": {
             "color": "#2a3f5f"
            },
            "error_y": {
             "color": "#2a3f5f"
            },
            "marker": {
             "line": {
              "color": "#E5ECF6",
              "width": 0.5
             },
             "pattern": {
              "fillmode": "overlay",
              "size": 10,
              "solidity": 0.2
             }
            },
            "type": "bar"
           }
          ],
          "barpolar": [
           {
            "marker": {
             "line": {
              "color": "#E5ECF6",
              "width": 0.5
             },
             "pattern": {
              "fillmode": "overlay",
              "size": 10,
              "solidity": 0.2
             }
            },
            "type": "barpolar"
           }
          ],
          "carpet": [
           {
            "aaxis": {
             "endlinecolor": "#2a3f5f",
             "gridcolor": "white",
             "linecolor": "white",
             "minorgridcolor": "white",
             "startlinecolor": "#2a3f5f"
            },
            "baxis": {
             "endlinecolor": "#2a3f5f",
             "gridcolor": "white",
             "linecolor": "white",
             "minorgridcolor": "white",
             "startlinecolor": "#2a3f5f"
            },
            "type": "carpet"
           }
          ],
          "choropleth": [
           {
            "colorbar": {
             "outlinewidth": 0,
             "ticks": ""
            },
            "type": "choropleth"
           }
          ],
          "contour": [
           {
            "colorbar": {
             "outlinewidth": 0,
             "ticks": ""
            },
            "colorscale": [
             [
              0,
              "#0d0887"
             ],
             [
              0.1111111111111111,
              "#46039f"
             ],
             [
              0.2222222222222222,
              "#7201a8"
             ],
             [
              0.3333333333333333,
              "#9c179e"
             ],
             [
              0.4444444444444444,
              "#bd3786"
             ],
             [
              0.5555555555555556,
              "#d8576b"
             ],
             [
              0.6666666666666666,
              "#ed7953"
             ],
             [
              0.7777777777777778,
              "#fb9f3a"
             ],
             [
              0.8888888888888888,
              "#fdca26"
             ],
             [
              1,
              "#f0f921"
             ]
            ],
            "type": "contour"
           }
          ],
          "contourcarpet": [
           {
            "colorbar": {
             "outlinewidth": 0,
             "ticks": ""
            },
            "type": "contourcarpet"
           }
          ],
          "heatmap": [
           {
            "colorbar": {
             "outlinewidth": 0,
             "ticks": ""
            },
            "colorscale": [
             [
              0,
              "#0d0887"
             ],
             [
              0.1111111111111111,
              "#46039f"
             ],
             [
              0.2222222222222222,
              "#7201a8"
             ],
             [
              0.3333333333333333,
              "#9c179e"
             ],
             [
              0.4444444444444444,
              "#bd3786"
             ],
             [
              0.5555555555555556,
              "#d8576b"
             ],
             [
              0.6666666666666666,
              "#ed7953"
             ],
             [
              0.7777777777777778,
              "#fb9f3a"
             ],
             [
              0.8888888888888888,
              "#fdca26"
             ],
             [
              1,
              "#f0f921"
             ]
            ],
            "type": "heatmap"
           }
          ],
          "heatmapgl": [
           {
            "colorbar": {
             "outlinewidth": 0,
             "ticks": ""
            },
            "colorscale": [
             [
              0,
              "#0d0887"
             ],
             [
              0.1111111111111111,
              "#46039f"
             ],
             [
              0.2222222222222222,
              "#7201a8"
             ],
             [
              0.3333333333333333,
              "#9c179e"
             ],
             [
              0.4444444444444444,
              "#bd3786"
             ],
             [
              0.5555555555555556,
              "#d8576b"
             ],
             [
              0.6666666666666666,
              "#ed7953"
             ],
             [
              0.7777777777777778,
              "#fb9f3a"
             ],
             [
              0.8888888888888888,
              "#fdca26"
             ],
             [
              1,
              "#f0f921"
             ]
            ],
            "type": "heatmapgl"
           }
          ],
          "histogram": [
           {
            "marker": {
             "pattern": {
              "fillmode": "overlay",
              "size": 10,
              "solidity": 0.2
             }
            },
            "type": "histogram"
           }
          ],
          "histogram2d": [
           {
            "colorbar": {
             "outlinewidth": 0,
             "ticks": ""
            },
            "colorscale": [
             [
              0,
              "#0d0887"
             ],
             [
              0.1111111111111111,
              "#46039f"
             ],
             [
              0.2222222222222222,
              "#7201a8"
             ],
             [
              0.3333333333333333,
              "#9c179e"
             ],
             [
              0.4444444444444444,
              "#bd3786"
             ],
             [
              0.5555555555555556,
              "#d8576b"
             ],
             [
              0.6666666666666666,
              "#ed7953"
             ],
             [
              0.7777777777777778,
              "#fb9f3a"
             ],
             [
              0.8888888888888888,
              "#fdca26"
             ],
             [
              1,
              "#f0f921"
             ]
            ],
            "type": "histogram2d"
           }
          ],
          "histogram2dcontour": [
           {
            "colorbar": {
             "outlinewidth": 0,
             "ticks": ""
            },
            "colorscale": [
             [
              0,
              "#0d0887"
             ],
             [
              0.1111111111111111,
              "#46039f"
             ],
             [
              0.2222222222222222,
              "#7201a8"
             ],
             [
              0.3333333333333333,
              "#9c179e"
             ],
             [
              0.4444444444444444,
              "#bd3786"
             ],
             [
              0.5555555555555556,
              "#d8576b"
             ],
             [
              0.6666666666666666,
              "#ed7953"
             ],
             [
              0.7777777777777778,
              "#fb9f3a"
             ],
             [
              0.8888888888888888,
              "#fdca26"
             ],
             [
              1,
              "#f0f921"
             ]
            ],
            "type": "histogram2dcontour"
           }
          ],
          "mesh3d": [
           {
            "colorbar": {
             "outlinewidth": 0,
             "ticks": ""
            },
            "type": "mesh3d"
           }
          ],
          "parcoords": [
           {
            "line": {
             "colorbar": {
              "outlinewidth": 0,
              "ticks": ""
             }
            },
            "type": "parcoords"
           }
          ],
          "pie": [
           {
            "automargin": true,
            "type": "pie"
           }
          ],
          "scatter": [
           {
            "fillpattern": {
             "fillmode": "overlay",
             "size": 10,
             "solidity": 0.2
            },
            "type": "scatter"
           }
          ],
          "scatter3d": [
           {
            "line": {
             "colorbar": {
              "outlinewidth": 0,
              "ticks": ""
             }
            },
            "marker": {
             "colorbar": {
              "outlinewidth": 0,
              "ticks": ""
             }
            },
            "type": "scatter3d"
           }
          ],
          "scattercarpet": [
           {
            "marker": {
             "colorbar": {
              "outlinewidth": 0,
              "ticks": ""
             }
            },
            "type": "scattercarpet"
           }
          ],
          "scattergeo": [
           {
            "marker": {
             "colorbar": {
              "outlinewidth": 0,
              "ticks": ""
             }
            },
            "type": "scattergeo"
           }
          ],
          "scattergl": [
           {
            "marker": {
             "colorbar": {
              "outlinewidth": 0,
              "ticks": ""
             }
            },
            "type": "scattergl"
           }
          ],
          "scattermapbox": [
           {
            "marker": {
             "colorbar": {
              "outlinewidth": 0,
              "ticks": ""
             }
            },
            "type": "scattermapbox"
           }
          ],
          "scatterpolar": [
           {
            "marker": {
             "colorbar": {
              "outlinewidth": 0,
              "ticks": ""
             }
            },
            "type": "scatterpolar"
           }
          ],
          "scatterpolargl": [
           {
            "marker": {
             "colorbar": {
              "outlinewidth": 0,
              "ticks": ""
             }
            },
            "type": "scatterpolargl"
           }
          ],
          "scatterternary": [
           {
            "marker": {
             "colorbar": {
              "outlinewidth": 0,
              "ticks": ""
             }
            },
            "type": "scatterternary"
           }
          ],
          "surface": [
           {
            "colorbar": {
             "outlinewidth": 0,
             "ticks": ""
            },
            "colorscale": [
             [
              0,
              "#0d0887"
             ],
             [
              0.1111111111111111,
              "#46039f"
             ],
             [
              0.2222222222222222,
              "#7201a8"
             ],
             [
              0.3333333333333333,
              "#9c179e"
             ],
             [
              0.4444444444444444,
              "#bd3786"
             ],
             [
              0.5555555555555556,
              "#d8576b"
             ],
             [
              0.6666666666666666,
              "#ed7953"
             ],
             [
              0.7777777777777778,
              "#fb9f3a"
             ],
             [
              0.8888888888888888,
              "#fdca26"
             ],
             [
              1,
              "#f0f921"
             ]
            ],
            "type": "surface"
           }
          ],
          "table": [
           {
            "cells": {
             "fill": {
              "color": "#EBF0F8"
             },
             "line": {
              "color": "white"
             }
            },
            "header": {
             "fill": {
              "color": "#C8D4E3"
             },
             "line": {
              "color": "white"
             }
            },
            "type": "table"
           }
          ]
         },
         "layout": {
          "annotationdefaults": {
           "arrowcolor": "#2a3f5f",
           "arrowhead": 0,
           "arrowwidth": 1
          },
          "autotypenumbers": "strict",
          "coloraxis": {
           "colorbar": {
            "outlinewidth": 0,
            "ticks": ""
           }
          },
          "colorscale": {
           "diverging": [
            [
             0,
             "#8e0152"
            ],
            [
             0.1,
             "#c51b7d"
            ],
            [
             0.2,
             "#de77ae"
            ],
            [
             0.3,
             "#f1b6da"
            ],
            [
             0.4,
             "#fde0ef"
            ],
            [
             0.5,
             "#f7f7f7"
            ],
            [
             0.6,
             "#e6f5d0"
            ],
            [
             0.7,
             "#b8e186"
            ],
            [
             0.8,
             "#7fbc41"
            ],
            [
             0.9,
             "#4d9221"
            ],
            [
             1,
             "#276419"
            ]
           ],
           "sequential": [
            [
             0,
             "#0d0887"
            ],
            [
             0.1111111111111111,
             "#46039f"
            ],
            [
             0.2222222222222222,
             "#7201a8"
            ],
            [
             0.3333333333333333,
             "#9c179e"
            ],
            [
             0.4444444444444444,
             "#bd3786"
            ],
            [
             0.5555555555555556,
             "#d8576b"
            ],
            [
             0.6666666666666666,
             "#ed7953"
            ],
            [
             0.7777777777777778,
             "#fb9f3a"
            ],
            [
             0.8888888888888888,
             "#fdca26"
            ],
            [
             1,
             "#f0f921"
            ]
           ],
           "sequentialminus": [
            [
             0,
             "#0d0887"
            ],
            [
             0.1111111111111111,
             "#46039f"
            ],
            [
             0.2222222222222222,
             "#7201a8"
            ],
            [
             0.3333333333333333,
             "#9c179e"
            ],
            [
             0.4444444444444444,
             "#bd3786"
            ],
            [
             0.5555555555555556,
             "#d8576b"
            ],
            [
             0.6666666666666666,
             "#ed7953"
            ],
            [
             0.7777777777777778,
             "#fb9f3a"
            ],
            [
             0.8888888888888888,
             "#fdca26"
            ],
            [
             1,
             "#f0f921"
            ]
           ]
          },
          "colorway": [
           "#636efa",
           "#EF553B",
           "#00cc96",
           "#ab63fa",
           "#FFA15A",
           "#19d3f3",
           "#FF6692",
           "#B6E880",
           "#FF97FF",
           "#FECB52"
          ],
          "font": {
           "color": "#2a3f5f"
          },
          "geo": {
           "bgcolor": "white",
           "lakecolor": "white",
           "landcolor": "#E5ECF6",
           "showlakes": true,
           "showland": true,
           "subunitcolor": "white"
          },
          "hoverlabel": {
           "align": "left"
          },
          "hovermode": "closest",
          "mapbox": {
           "style": "light"
          },
          "paper_bgcolor": "white",
          "plot_bgcolor": "#E5ECF6",
          "polar": {
           "angularaxis": {
            "gridcolor": "white",
            "linecolor": "white",
            "ticks": ""
           },
           "bgcolor": "#E5ECF6",
           "radialaxis": {
            "gridcolor": "white",
            "linecolor": "white",
            "ticks": ""
           }
          },
          "scene": {
           "xaxis": {
            "backgroundcolor": "#E5ECF6",
            "gridcolor": "white",
            "gridwidth": 2,
            "linecolor": "white",
            "showbackground": true,
            "ticks": "",
            "zerolinecolor": "white"
           },
           "yaxis": {
            "backgroundcolor": "#E5ECF6",
            "gridcolor": "white",
            "gridwidth": 2,
            "linecolor": "white",
            "showbackground": true,
            "ticks": "",
            "zerolinecolor": "white"
           },
           "zaxis": {
            "backgroundcolor": "#E5ECF6",
            "gridcolor": "white",
            "gridwidth": 2,
            "linecolor": "white",
            "showbackground": true,
            "ticks": "",
            "zerolinecolor": "white"
           }
          },
          "shapedefaults": {
           "line": {
            "color": "#2a3f5f"
           }
          },
          "ternary": {
           "aaxis": {
            "gridcolor": "white",
            "linecolor": "white",
            "ticks": ""
           },
           "baxis": {
            "gridcolor": "white",
            "linecolor": "white",
            "ticks": ""
           },
           "bgcolor": "#E5ECF6",
           "caxis": {
            "gridcolor": "white",
            "linecolor": "white",
            "ticks": ""
           }
          },
          "title": {
           "x": 0.05
          },
          "xaxis": {
           "automargin": true,
           "gridcolor": "white",
           "linecolor": "white",
           "ticks": "",
           "title": {
            "standoff": 15
           },
           "zerolinecolor": "white",
           "zerolinewidth": 2
          },
          "yaxis": {
           "automargin": true,
           "gridcolor": "white",
           "linecolor": "white",
           "ticks": "",
           "title": {
            "standoff": 15
           },
           "zerolinecolor": "white",
           "zerolinewidth": 2
          }
         }
        },
        "title": {
         "font": {
          "color": "#D9D9D9"
         },
         "text": "NESRECE PO STATE-OVIMA"
        },
        "xaxis": {
         "gridcolor": "#434343",
         "showgrid": true,
         "tickfont": {
          "color": "#C2C2C2"
         },
         "title": {
          "font": {
           "color": "#D9D9D9"
          },
          "text": ""
         },
         "zerolinecolor": "#666570"
        },
        "yaxis": {
         "gridcolor": "#434343",
         "showgrid": true,
         "tickfont": {
          "color": "#C2C2C2"
         },
         "title": {
          "font": {
           "color": "#D9D9D9"
          },
          "text": ""
         },
         "zerolinecolor": "#666570"
        }
       }
      },
      "text/html": [
       "<div>                            <div id=\"84f15e88-e2f0-43b3-a11c-e2d39a2d8ed6\" class=\"plotly-graph-div\" style=\"height:525px; width:100%;\"></div>            <script type=\"text/javascript\">                require([\"plotly\"], function(Plotly) {                    window.PLOTLYENV=window.PLOTLYENV || {};\n",
       "                    window.PLOTLYENV.BASE_URL='https://plot.ly';                                    if (document.getElementById(\"84f15e88-e2f0-43b3-a11c-e2d39a2d8ed6\")) {                    Plotly.newPlot(                        \"84f15e88-e2f0-43b3-a11c-e2d39a2d8ed6\",                        [{\"marker\":{\"color\":\"rgba(255, 153, 51, 0.6)\",\"line\":{\"color\":\"rgba(255, 153, 51, 1.0)\",\"width\":1}},\"name\":\"state\",\"orientation\":\"v\",\"text\":\"\",\"x\":[\"Illinois\",\"California\",\"Florida\",\"Texas\",\"Ohio\",\"New York\",\"Pennsylvania\",\"Georgia\",\"North Carolina\",\"Louisiana\",\"Tennessee\",\"South Carolina\",\"Missouri\",\"Michigan\",\"Massachusetts\",\"Virginia\",\"Indiana\",\"Maryland\",\"Alabama\",\"New Jersey\",\"Wisconsin\",\"Kentucky\",\"Mississippi\",\"Oklahoma\",\"Washington\"],\"y\":[17556,16306,15029,13577,10244,9712,8929,8925,8739,8103,7626,6939,6631,6136,5981,5949,5852,5798,5471,5387,4787,4157,3599,3455,3434],\"type\":\"bar\"}],                        {\"legend\":{\"bgcolor\":\"#151516\",\"font\":{\"color\":\"#D9D9D9\"}},\"paper_bgcolor\":\"#151516\",\"plot_bgcolor\":\"#151516\",\"template\":{\"data\":{\"barpolar\":[{\"marker\":{\"line\":{\"color\":\"#E5ECF6\",\"width\":0.5},\"pattern\":{\"fillmode\":\"overlay\",\"size\":10,\"solidity\":0.2}},\"type\":\"barpolar\"}],\"bar\":[{\"error_x\":{\"color\":\"#2a3f5f\"},\"error_y\":{\"color\":\"#2a3f5f\"},\"marker\":{\"line\":{\"color\":\"#E5ECF6\",\"width\":0.5},\"pattern\":{\"fillmode\":\"overlay\",\"size\":10,\"solidity\":0.2}},\"type\":\"bar\"}],\"carpet\":[{\"aaxis\":{\"endlinecolor\":\"#2a3f5f\",\"gridcolor\":\"white\",\"linecolor\":\"white\",\"minorgridcolor\":\"white\",\"startlinecolor\":\"#2a3f5f\"},\"baxis\":{\"endlinecolor\":\"#2a3f5f\",\"gridcolor\":\"white\",\"linecolor\":\"white\",\"minorgridcolor\":\"white\",\"startlinecolor\":\"#2a3f5f\"},\"type\":\"carpet\"}],\"choropleth\":[{\"colorbar\":{\"outlinewidth\":0,\"ticks\":\"\"},\"type\":\"choropleth\"}],\"contourcarpet\":[{\"colorbar\":{\"outlinewidth\":0,\"ticks\":\"\"},\"type\":\"contourcarpet\"}],\"contour\":[{\"colorbar\":{\"outlinewidth\":0,\"ticks\":\"\"},\"colorscale\":[[0.0,\"#0d0887\"],[0.1111111111111111,\"#46039f\"],[0.2222222222222222,\"#7201a8\"],[0.3333333333333333,\"#9c179e\"],[0.4444444444444444,\"#bd3786\"],[0.5555555555555556,\"#d8576b\"],[0.6666666666666666,\"#ed7953\"],[0.7777777777777778,\"#fb9f3a\"],[0.8888888888888888,\"#fdca26\"],[1.0,\"#f0f921\"]],\"type\":\"contour\"}],\"heatmapgl\":[{\"colorbar\":{\"outlinewidth\":0,\"ticks\":\"\"},\"colorscale\":[[0.0,\"#0d0887\"],[0.1111111111111111,\"#46039f\"],[0.2222222222222222,\"#7201a8\"],[0.3333333333333333,\"#9c179e\"],[0.4444444444444444,\"#bd3786\"],[0.5555555555555556,\"#d8576b\"],[0.6666666666666666,\"#ed7953\"],[0.7777777777777778,\"#fb9f3a\"],[0.8888888888888888,\"#fdca26\"],[1.0,\"#f0f921\"]],\"type\":\"heatmapgl\"}],\"heatmap\":[{\"colorbar\":{\"outlinewidth\":0,\"ticks\":\"\"},\"colorscale\":[[0.0,\"#0d0887\"],[0.1111111111111111,\"#46039f\"],[0.2222222222222222,\"#7201a8\"],[0.3333333333333333,\"#9c179e\"],[0.4444444444444444,\"#bd3786\"],[0.5555555555555556,\"#d8576b\"],[0.6666666666666666,\"#ed7953\"],[0.7777777777777778,\"#fb9f3a\"],[0.8888888888888888,\"#fdca26\"],[1.0,\"#f0f921\"]],\"type\":\"heatmap\"}],\"histogram2dcontour\":[{\"colorbar\":{\"outlinewidth\":0,\"ticks\":\"\"},\"colorscale\":[[0.0,\"#0d0887\"],[0.1111111111111111,\"#46039f\"],[0.2222222222222222,\"#7201a8\"],[0.3333333333333333,\"#9c179e\"],[0.4444444444444444,\"#bd3786\"],[0.5555555555555556,\"#d8576b\"],[0.6666666666666666,\"#ed7953\"],[0.7777777777777778,\"#fb9f3a\"],[0.8888888888888888,\"#fdca26\"],[1.0,\"#f0f921\"]],\"type\":\"histogram2dcontour\"}],\"histogram2d\":[{\"colorbar\":{\"outlinewidth\":0,\"ticks\":\"\"},\"colorscale\":[[0.0,\"#0d0887\"],[0.1111111111111111,\"#46039f\"],[0.2222222222222222,\"#7201a8\"],[0.3333333333333333,\"#9c179e\"],[0.4444444444444444,\"#bd3786\"],[0.5555555555555556,\"#d8576b\"],[0.6666666666666666,\"#ed7953\"],[0.7777777777777778,\"#fb9f3a\"],[0.8888888888888888,\"#fdca26\"],[1.0,\"#f0f921\"]],\"type\":\"histogram2d\"}],\"histogram\":[{\"marker\":{\"pattern\":{\"fillmode\":\"overlay\",\"size\":10,\"solidity\":0.2}},\"type\":\"histogram\"}],\"mesh3d\":[{\"colorbar\":{\"outlinewidth\":0,\"ticks\":\"\"},\"type\":\"mesh3d\"}],\"parcoords\":[{\"line\":{\"colorbar\":{\"outlinewidth\":0,\"ticks\":\"\"}},\"type\":\"parcoords\"}],\"pie\":[{\"automargin\":true,\"type\":\"pie\"}],\"scatter3d\":[{\"line\":{\"colorbar\":{\"outlinewidth\":0,\"ticks\":\"\"}},\"marker\":{\"colorbar\":{\"outlinewidth\":0,\"ticks\":\"\"}},\"type\":\"scatter3d\"}],\"scattercarpet\":[{\"marker\":{\"colorbar\":{\"outlinewidth\":0,\"ticks\":\"\"}},\"type\":\"scattercarpet\"}],\"scattergeo\":[{\"marker\":{\"colorbar\":{\"outlinewidth\":0,\"ticks\":\"\"}},\"type\":\"scattergeo\"}],\"scattergl\":[{\"marker\":{\"colorbar\":{\"outlinewidth\":0,\"ticks\":\"\"}},\"type\":\"scattergl\"}],\"scattermapbox\":[{\"marker\":{\"colorbar\":{\"outlinewidth\":0,\"ticks\":\"\"}},\"type\":\"scattermapbox\"}],\"scatterpolargl\":[{\"marker\":{\"colorbar\":{\"outlinewidth\":0,\"ticks\":\"\"}},\"type\":\"scatterpolargl\"}],\"scatterpolar\":[{\"marker\":{\"colorbar\":{\"outlinewidth\":0,\"ticks\":\"\"}},\"type\":\"scatterpolar\"}],\"scatter\":[{\"fillpattern\":{\"fillmode\":\"overlay\",\"size\":10,\"solidity\":0.2},\"type\":\"scatter\"}],\"scatterternary\":[{\"marker\":{\"colorbar\":{\"outlinewidth\":0,\"ticks\":\"\"}},\"type\":\"scatterternary\"}],\"surface\":[{\"colorbar\":{\"outlinewidth\":0,\"ticks\":\"\"},\"colorscale\":[[0.0,\"#0d0887\"],[0.1111111111111111,\"#46039f\"],[0.2222222222222222,\"#7201a8\"],[0.3333333333333333,\"#9c179e\"],[0.4444444444444444,\"#bd3786\"],[0.5555555555555556,\"#d8576b\"],[0.6666666666666666,\"#ed7953\"],[0.7777777777777778,\"#fb9f3a\"],[0.8888888888888888,\"#fdca26\"],[1.0,\"#f0f921\"]],\"type\":\"surface\"}],\"table\":[{\"cells\":{\"fill\":{\"color\":\"#EBF0F8\"},\"line\":{\"color\":\"white\"}},\"header\":{\"fill\":{\"color\":\"#C8D4E3\"},\"line\":{\"color\":\"white\"}},\"type\":\"table\"}]},\"layout\":{\"annotationdefaults\":{\"arrowcolor\":\"#2a3f5f\",\"arrowhead\":0,\"arrowwidth\":1},\"autotypenumbers\":\"strict\",\"coloraxis\":{\"colorbar\":{\"outlinewidth\":0,\"ticks\":\"\"}},\"colorscale\":{\"diverging\":[[0,\"#8e0152\"],[0.1,\"#c51b7d\"],[0.2,\"#de77ae\"],[0.3,\"#f1b6da\"],[0.4,\"#fde0ef\"],[0.5,\"#f7f7f7\"],[0.6,\"#e6f5d0\"],[0.7,\"#b8e186\"],[0.8,\"#7fbc41\"],[0.9,\"#4d9221\"],[1,\"#276419\"]],\"sequential\":[[0.0,\"#0d0887\"],[0.1111111111111111,\"#46039f\"],[0.2222222222222222,\"#7201a8\"],[0.3333333333333333,\"#9c179e\"],[0.4444444444444444,\"#bd3786\"],[0.5555555555555556,\"#d8576b\"],[0.6666666666666666,\"#ed7953\"],[0.7777777777777778,\"#fb9f3a\"],[0.8888888888888888,\"#fdca26\"],[1.0,\"#f0f921\"]],\"sequentialminus\":[[0.0,\"#0d0887\"],[0.1111111111111111,\"#46039f\"],[0.2222222222222222,\"#7201a8\"],[0.3333333333333333,\"#9c179e\"],[0.4444444444444444,\"#bd3786\"],[0.5555555555555556,\"#d8576b\"],[0.6666666666666666,\"#ed7953\"],[0.7777777777777778,\"#fb9f3a\"],[0.8888888888888888,\"#fdca26\"],[1.0,\"#f0f921\"]]},\"colorway\":[\"#636efa\",\"#EF553B\",\"#00cc96\",\"#ab63fa\",\"#FFA15A\",\"#19d3f3\",\"#FF6692\",\"#B6E880\",\"#FF97FF\",\"#FECB52\"],\"font\":{\"color\":\"#2a3f5f\"},\"geo\":{\"bgcolor\":\"white\",\"lakecolor\":\"white\",\"landcolor\":\"#E5ECF6\",\"showlakes\":true,\"showland\":true,\"subunitcolor\":\"white\"},\"hoverlabel\":{\"align\":\"left\"},\"hovermode\":\"closest\",\"mapbox\":{\"style\":\"light\"},\"paper_bgcolor\":\"white\",\"plot_bgcolor\":\"#E5ECF6\",\"polar\":{\"angularaxis\":{\"gridcolor\":\"white\",\"linecolor\":\"white\",\"ticks\":\"\"},\"bgcolor\":\"#E5ECF6\",\"radialaxis\":{\"gridcolor\":\"white\",\"linecolor\":\"white\",\"ticks\":\"\"}},\"scene\":{\"xaxis\":{\"backgroundcolor\":\"#E5ECF6\",\"gridcolor\":\"white\",\"gridwidth\":2,\"linecolor\":\"white\",\"showbackground\":true,\"ticks\":\"\",\"zerolinecolor\":\"white\"},\"yaxis\":{\"backgroundcolor\":\"#E5ECF6\",\"gridcolor\":\"white\",\"gridwidth\":2,\"linecolor\":\"white\",\"showbackground\":true,\"ticks\":\"\",\"zerolinecolor\":\"white\"},\"zaxis\":{\"backgroundcolor\":\"#E5ECF6\",\"gridcolor\":\"white\",\"gridwidth\":2,\"linecolor\":\"white\",\"showbackground\":true,\"ticks\":\"\",\"zerolinecolor\":\"white\"}},\"shapedefaults\":{\"line\":{\"color\":\"#2a3f5f\"}},\"ternary\":{\"aaxis\":{\"gridcolor\":\"white\",\"linecolor\":\"white\",\"ticks\":\"\"},\"baxis\":{\"gridcolor\":\"white\",\"linecolor\":\"white\",\"ticks\":\"\"},\"bgcolor\":\"#E5ECF6\",\"caxis\":{\"gridcolor\":\"white\",\"linecolor\":\"white\",\"ticks\":\"\"}},\"title\":{\"x\":0.05},\"xaxis\":{\"automargin\":true,\"gridcolor\":\"white\",\"linecolor\":\"white\",\"ticks\":\"\",\"title\":{\"standoff\":15},\"zerolinecolor\":\"white\",\"zerolinewidth\":2},\"yaxis\":{\"automargin\":true,\"gridcolor\":\"white\",\"linecolor\":\"white\",\"ticks\":\"\",\"title\":{\"standoff\":15},\"zerolinecolor\":\"white\",\"zerolinewidth\":2}}},\"title\":{\"font\":{\"color\":\"#D9D9D9\"},\"text\":\"NESRECE PO STATE-OVIMA\"},\"xaxis\":{\"gridcolor\":\"#434343\",\"showgrid\":true,\"tickfont\":{\"color\":\"#C2C2C2\"},\"title\":{\"font\":{\"color\":\"#D9D9D9\"},\"text\":\"\"},\"zerolinecolor\":\"#666570\"},\"yaxis\":{\"gridcolor\":\"#434343\",\"showgrid\":true,\"tickfont\":{\"color\":\"#C2C2C2\"},\"title\":{\"font\":{\"color\":\"#D9D9D9\"},\"text\":\"\"},\"zerolinecolor\":\"#666570\"}},                        {\"showLink\": true, \"linkText\": \"Export to plot.ly\", \"plotlyServerURL\": \"https://plot.ly\", \"responsive\": true}                    ).then(function(){\n",
       "                            \n",
       "var gd = document.getElementById('84f15e88-e2f0-43b3-a11c-e2d39a2d8ed6');\n",
       "var x = new MutationObserver(function (mutations, observer) {{\n",
       "        var display = window.getComputedStyle(gd).display;\n",
       "        if (!display || display === 'none') {{\n",
       "            console.log([gd, 'removed!']);\n",
       "            Plotly.purge(gd);\n",
       "            observer.disconnect();\n",
       "        }}\n",
       "}});\n",
       "\n",
       "// Listen for the removal of the full notebook cells\n",
       "var notebookContainer = gd.closest('#notebook-container');\n",
       "if (notebookContainer) {{\n",
       "    x.observe(notebookContainer, {childList: true});\n",
       "}}\n",
       "\n",
       "// Listen for the clearing of the current output cell\n",
       "var outputEl = gd.closest('.output');\n",
       "if (outputEl) {{\n",
       "    x.observe(outputEl, {childList: true});\n",
       "}}\n",
       "\n",
       "                        })                };                });            </script>        </div>"
      ]
     },
     "metadata": {},
     "output_type": "display_data"
    }
   ],
   "source": [
    "df.state.value_counts().head(25).iplot(kind = 'bar', theme='solar', title = 'NESRECE PO STATE-OVIMA',)"
   ]
  },
  {
   "cell_type": "code",
   "execution_count": 9,
   "id": "1442a453",
   "metadata": {},
   "outputs": [
    {
     "data": {
      "application/vnd.plotly.v1+json": {
       "config": {
        "linkText": "Export to plot.ly",
        "plotlyServerURL": "https://plot.ly",
        "showLink": true
       },
       "data": [
        {
         "marker": {
          "color": "rgba(0, 128, 240, 0.6)",
          "line": {
           "color": "rgba(0, 128, 240, 1.0)",
           "width": 1
          }
         },
         "name": "city_or_county",
         "orientation": "v",
         "text": "",
         "type": "bar",
         "x": [
          "Chicago",
          "Baltimore",
          "Washington",
          "New Orleans",
          "Philadelphia",
          "Saint Louis",
          "Houston",
          "Milwaukee",
          "Jacksonville",
          "Memphis"
         ],
         "y": [
          10814,
          3943,
          3279,
          3071,
          2963,
          2501,
          2501,
          2487,
          2448,
          2386
         ]
        }
       ],
       "layout": {
        "legend": {
         "bgcolor": "#F2F3F7",
         "font": {
          "color": "#505050"
         }
        },
        "paper_bgcolor": "#F2F3F7",
        "plot_bgcolor": "#F2F3F7",
        "template": {
         "data": {
          "bar": [
           {
            "error_x": {
             "color": "#2a3f5f"
            },
            "error_y": {
             "color": "#2a3f5f"
            },
            "marker": {
             "line": {
              "color": "#E5ECF6",
              "width": 0.5
             },
             "pattern": {
              "fillmode": "overlay",
              "size": 10,
              "solidity": 0.2
             }
            },
            "type": "bar"
           }
          ],
          "barpolar": [
           {
            "marker": {
             "line": {
              "color": "#E5ECF6",
              "width": 0.5
             },
             "pattern": {
              "fillmode": "overlay",
              "size": 10,
              "solidity": 0.2
             }
            },
            "type": "barpolar"
           }
          ],
          "carpet": [
           {
            "aaxis": {
             "endlinecolor": "#2a3f5f",
             "gridcolor": "white",
             "linecolor": "white",
             "minorgridcolor": "white",
             "startlinecolor": "#2a3f5f"
            },
            "baxis": {
             "endlinecolor": "#2a3f5f",
             "gridcolor": "white",
             "linecolor": "white",
             "minorgridcolor": "white",
             "startlinecolor": "#2a3f5f"
            },
            "type": "carpet"
           }
          ],
          "choropleth": [
           {
            "colorbar": {
             "outlinewidth": 0,
             "ticks": ""
            },
            "type": "choropleth"
           }
          ],
          "contour": [
           {
            "colorbar": {
             "outlinewidth": 0,
             "ticks": ""
            },
            "colorscale": [
             [
              0,
              "#0d0887"
             ],
             [
              0.1111111111111111,
              "#46039f"
             ],
             [
              0.2222222222222222,
              "#7201a8"
             ],
             [
              0.3333333333333333,
              "#9c179e"
             ],
             [
              0.4444444444444444,
              "#bd3786"
             ],
             [
              0.5555555555555556,
              "#d8576b"
             ],
             [
              0.6666666666666666,
              "#ed7953"
             ],
             [
              0.7777777777777778,
              "#fb9f3a"
             ],
             [
              0.8888888888888888,
              "#fdca26"
             ],
             [
              1,
              "#f0f921"
             ]
            ],
            "type": "contour"
           }
          ],
          "contourcarpet": [
           {
            "colorbar": {
             "outlinewidth": 0,
             "ticks": ""
            },
            "type": "contourcarpet"
           }
          ],
          "heatmap": [
           {
            "colorbar": {
             "outlinewidth": 0,
             "ticks": ""
            },
            "colorscale": [
             [
              0,
              "#0d0887"
             ],
             [
              0.1111111111111111,
              "#46039f"
             ],
             [
              0.2222222222222222,
              "#7201a8"
             ],
             [
              0.3333333333333333,
              "#9c179e"
             ],
             [
              0.4444444444444444,
              "#bd3786"
             ],
             [
              0.5555555555555556,
              "#d8576b"
             ],
             [
              0.6666666666666666,
              "#ed7953"
             ],
             [
              0.7777777777777778,
              "#fb9f3a"
             ],
             [
              0.8888888888888888,
              "#fdca26"
             ],
             [
              1,
              "#f0f921"
             ]
            ],
            "type": "heatmap"
           }
          ],
          "heatmapgl": [
           {
            "colorbar": {
             "outlinewidth": 0,
             "ticks": ""
            },
            "colorscale": [
             [
              0,
              "#0d0887"
             ],
             [
              0.1111111111111111,
              "#46039f"
             ],
             [
              0.2222222222222222,
              "#7201a8"
             ],
             [
              0.3333333333333333,
              "#9c179e"
             ],
             [
              0.4444444444444444,
              "#bd3786"
             ],
             [
              0.5555555555555556,
              "#d8576b"
             ],
             [
              0.6666666666666666,
              "#ed7953"
             ],
             [
              0.7777777777777778,
              "#fb9f3a"
             ],
             [
              0.8888888888888888,
              "#fdca26"
             ],
             [
              1,
              "#f0f921"
             ]
            ],
            "type": "heatmapgl"
           }
          ],
          "histogram": [
           {
            "marker": {
             "pattern": {
              "fillmode": "overlay",
              "size": 10,
              "solidity": 0.2
             }
            },
            "type": "histogram"
           }
          ],
          "histogram2d": [
           {
            "colorbar": {
             "outlinewidth": 0,
             "ticks": ""
            },
            "colorscale": [
             [
              0,
              "#0d0887"
             ],
             [
              0.1111111111111111,
              "#46039f"
             ],
             [
              0.2222222222222222,
              "#7201a8"
             ],
             [
              0.3333333333333333,
              "#9c179e"
             ],
             [
              0.4444444444444444,
              "#bd3786"
             ],
             [
              0.5555555555555556,
              "#d8576b"
             ],
             [
              0.6666666666666666,
              "#ed7953"
             ],
             [
              0.7777777777777778,
              "#fb9f3a"
             ],
             [
              0.8888888888888888,
              "#fdca26"
             ],
             [
              1,
              "#f0f921"
             ]
            ],
            "type": "histogram2d"
           }
          ],
          "histogram2dcontour": [
           {
            "colorbar": {
             "outlinewidth": 0,
             "ticks": ""
            },
            "colorscale": [
             [
              0,
              "#0d0887"
             ],
             [
              0.1111111111111111,
              "#46039f"
             ],
             [
              0.2222222222222222,
              "#7201a8"
             ],
             [
              0.3333333333333333,
              "#9c179e"
             ],
             [
              0.4444444444444444,
              "#bd3786"
             ],
             [
              0.5555555555555556,
              "#d8576b"
             ],
             [
              0.6666666666666666,
              "#ed7953"
             ],
             [
              0.7777777777777778,
              "#fb9f3a"
             ],
             [
              0.8888888888888888,
              "#fdca26"
             ],
             [
              1,
              "#f0f921"
             ]
            ],
            "type": "histogram2dcontour"
           }
          ],
          "mesh3d": [
           {
            "colorbar": {
             "outlinewidth": 0,
             "ticks": ""
            },
            "type": "mesh3d"
           }
          ],
          "parcoords": [
           {
            "line": {
             "colorbar": {
              "outlinewidth": 0,
              "ticks": ""
             }
            },
            "type": "parcoords"
           }
          ],
          "pie": [
           {
            "automargin": true,
            "type": "pie"
           }
          ],
          "scatter": [
           {
            "fillpattern": {
             "fillmode": "overlay",
             "size": 10,
             "solidity": 0.2
            },
            "type": "scatter"
           }
          ],
          "scatter3d": [
           {
            "line": {
             "colorbar": {
              "outlinewidth": 0,
              "ticks": ""
             }
            },
            "marker": {
             "colorbar": {
              "outlinewidth": 0,
              "ticks": ""
             }
            },
            "type": "scatter3d"
           }
          ],
          "scattercarpet": [
           {
            "marker": {
             "colorbar": {
              "outlinewidth": 0,
              "ticks": ""
             }
            },
            "type": "scattercarpet"
           }
          ],
          "scattergeo": [
           {
            "marker": {
             "colorbar": {
              "outlinewidth": 0,
              "ticks": ""
             }
            },
            "type": "scattergeo"
           }
          ],
          "scattergl": [
           {
            "marker": {
             "colorbar": {
              "outlinewidth": 0,
              "ticks": ""
             }
            },
            "type": "scattergl"
           }
          ],
          "scattermapbox": [
           {
            "marker": {
             "colorbar": {
              "outlinewidth": 0,
              "ticks": ""
             }
            },
            "type": "scattermapbox"
           }
          ],
          "scatterpolar": [
           {
            "marker": {
             "colorbar": {
              "outlinewidth": 0,
              "ticks": ""
             }
            },
            "type": "scatterpolar"
           }
          ],
          "scatterpolargl": [
           {
            "marker": {
             "colorbar": {
              "outlinewidth": 0,
              "ticks": ""
             }
            },
            "type": "scatterpolargl"
           }
          ],
          "scatterternary": [
           {
            "marker": {
             "colorbar": {
              "outlinewidth": 0,
              "ticks": ""
             }
            },
            "type": "scatterternary"
           }
          ],
          "surface": [
           {
            "colorbar": {
             "outlinewidth": 0,
             "ticks": ""
            },
            "colorscale": [
             [
              0,
              "#0d0887"
             ],
             [
              0.1111111111111111,
              "#46039f"
             ],
             [
              0.2222222222222222,
              "#7201a8"
             ],
             [
              0.3333333333333333,
              "#9c179e"
             ],
             [
              0.4444444444444444,
              "#bd3786"
             ],
             [
              0.5555555555555556,
              "#d8576b"
             ],
             [
              0.6666666666666666,
              "#ed7953"
             ],
             [
              0.7777777777777778,
              "#fb9f3a"
             ],
             [
              0.8888888888888888,
              "#fdca26"
             ],
             [
              1,
              "#f0f921"
             ]
            ],
            "type": "surface"
           }
          ],
          "table": [
           {
            "cells": {
             "fill": {
              "color": "#EBF0F8"
             },
             "line": {
              "color": "white"
             }
            },
            "header": {
             "fill": {
              "color": "#C8D4E3"
             },
             "line": {
              "color": "white"
             }
            },
            "type": "table"
           }
          ]
         },
         "layout": {
          "annotationdefaults": {
           "arrowcolor": "#2a3f5f",
           "arrowhead": 0,
           "arrowwidth": 1
          },
          "autotypenumbers": "strict",
          "coloraxis": {
           "colorbar": {
            "outlinewidth": 0,
            "ticks": ""
           }
          },
          "colorscale": {
           "diverging": [
            [
             0,
             "#8e0152"
            ],
            [
             0.1,
             "#c51b7d"
            ],
            [
             0.2,
             "#de77ae"
            ],
            [
             0.3,
             "#f1b6da"
            ],
            [
             0.4,
             "#fde0ef"
            ],
            [
             0.5,
             "#f7f7f7"
            ],
            [
             0.6,
             "#e6f5d0"
            ],
            [
             0.7,
             "#b8e186"
            ],
            [
             0.8,
             "#7fbc41"
            ],
            [
             0.9,
             "#4d9221"
            ],
            [
             1,
             "#276419"
            ]
           ],
           "sequential": [
            [
             0,
             "#0d0887"
            ],
            [
             0.1111111111111111,
             "#46039f"
            ],
            [
             0.2222222222222222,
             "#7201a8"
            ],
            [
             0.3333333333333333,
             "#9c179e"
            ],
            [
             0.4444444444444444,
             "#bd3786"
            ],
            [
             0.5555555555555556,
             "#d8576b"
            ],
            [
             0.6666666666666666,
             "#ed7953"
            ],
            [
             0.7777777777777778,
             "#fb9f3a"
            ],
            [
             0.8888888888888888,
             "#fdca26"
            ],
            [
             1,
             "#f0f921"
            ]
           ],
           "sequentialminus": [
            [
             0,
             "#0d0887"
            ],
            [
             0.1111111111111111,
             "#46039f"
            ],
            [
             0.2222222222222222,
             "#7201a8"
            ],
            [
             0.3333333333333333,
             "#9c179e"
            ],
            [
             0.4444444444444444,
             "#bd3786"
            ],
            [
             0.5555555555555556,
             "#d8576b"
            ],
            [
             0.6666666666666666,
             "#ed7953"
            ],
            [
             0.7777777777777778,
             "#fb9f3a"
            ],
            [
             0.8888888888888888,
             "#fdca26"
            ],
            [
             1,
             "#f0f921"
            ]
           ]
          },
          "colorway": [
           "#636efa",
           "#EF553B",
           "#00cc96",
           "#ab63fa",
           "#FFA15A",
           "#19d3f3",
           "#FF6692",
           "#B6E880",
           "#FF97FF",
           "#FECB52"
          ],
          "font": {
           "color": "#2a3f5f"
          },
          "geo": {
           "bgcolor": "white",
           "lakecolor": "white",
           "landcolor": "#E5ECF6",
           "showlakes": true,
           "showland": true,
           "subunitcolor": "white"
          },
          "hoverlabel": {
           "align": "left"
          },
          "hovermode": "closest",
          "mapbox": {
           "style": "light"
          },
          "paper_bgcolor": "white",
          "plot_bgcolor": "#E5ECF6",
          "polar": {
           "angularaxis": {
            "gridcolor": "white",
            "linecolor": "white",
            "ticks": ""
           },
           "bgcolor": "#E5ECF6",
           "radialaxis": {
            "gridcolor": "white",
            "linecolor": "white",
            "ticks": ""
           }
          },
          "scene": {
           "xaxis": {
            "backgroundcolor": "#E5ECF6",
            "gridcolor": "white",
            "gridwidth": 2,
            "linecolor": "white",
            "showbackground": true,
            "ticks": "",
            "zerolinecolor": "white"
           },
           "yaxis": {
            "backgroundcolor": "#E5ECF6",
            "gridcolor": "white",
            "gridwidth": 2,
            "linecolor": "white",
            "showbackground": true,
            "ticks": "",
            "zerolinecolor": "white"
           },
           "zaxis": {
            "backgroundcolor": "#E5ECF6",
            "gridcolor": "white",
            "gridwidth": 2,
            "linecolor": "white",
            "showbackground": true,
            "ticks": "",
            "zerolinecolor": "white"
           }
          },
          "shapedefaults": {
           "line": {
            "color": "#2a3f5f"
           }
          },
          "ternary": {
           "aaxis": {
            "gridcolor": "white",
            "linecolor": "white",
            "ticks": ""
           },
           "baxis": {
            "gridcolor": "white",
            "linecolor": "white",
            "ticks": ""
           },
           "bgcolor": "#E5ECF6",
           "caxis": {
            "gridcolor": "white",
            "linecolor": "white",
            "ticks": ""
           }
          },
          "title": {
           "x": 0.05
          },
          "xaxis": {
           "automargin": true,
           "gridcolor": "white",
           "linecolor": "white",
           "ticks": "",
           "title": {
            "standoff": 15
           },
           "zerolinecolor": "white",
           "zerolinewidth": 2
          },
          "yaxis": {
           "automargin": true,
           "gridcolor": "white",
           "linecolor": "white",
           "ticks": "",
           "title": {
            "standoff": 15
           },
           "zerolinecolor": "white",
           "zerolinewidth": 2
          }
         }
        },
        "title": {
         "font": {
          "color": "#484848"
         },
         "text": "Nesrece po gradovima"
        },
        "xaxis": {
         "gridcolor": "#E1E5ED",
         "showgrid": true,
         "tickfont": {
          "color": "#505050"
         },
         "title": {
          "font": {
           "color": "#505050"
          },
          "text": "Grad"
         },
         "zerolinecolor": "#E1E5ED"
        },
        "yaxis": {
         "gridcolor": "#E1E5ED",
         "showgrid": true,
         "tickfont": {
          "color": "#505050"
         },
         "title": {
          "font": {
           "color": "#505050"
          },
          "text": ""
         },
         "zerolinecolor": "#E1E5ED"
        }
       }
      },
      "text/html": [
       "<div>                            <div id=\"5fb70510-03b7-49c7-b989-2f709b339f17\" class=\"plotly-graph-div\" style=\"height:525px; width:100%;\"></div>            <script type=\"text/javascript\">                require([\"plotly\"], function(Plotly) {                    window.PLOTLYENV=window.PLOTLYENV || {};\n",
       "                    window.PLOTLYENV.BASE_URL='https://plot.ly';                                    if (document.getElementById(\"5fb70510-03b7-49c7-b989-2f709b339f17\")) {                    Plotly.newPlot(                        \"5fb70510-03b7-49c7-b989-2f709b339f17\",                        [{\"marker\":{\"color\":\"rgba(0, 128, 240, 0.6)\",\"line\":{\"color\":\"rgba(0, 128, 240, 1.0)\",\"width\":1}},\"name\":\"city_or_county\",\"orientation\":\"v\",\"text\":\"\",\"x\":[\"Chicago\",\"Baltimore\",\"Washington\",\"New Orleans\",\"Philadelphia\",\"Saint Louis\",\"Houston\",\"Milwaukee\",\"Jacksonville\",\"Memphis\"],\"y\":[10814,3943,3279,3071,2963,2501,2501,2487,2448,2386],\"type\":\"bar\"}],                        {\"legend\":{\"bgcolor\":\"#F2F3F7\",\"font\":{\"color\":\"#505050\"}},\"paper_bgcolor\":\"#F2F3F7\",\"plot_bgcolor\":\"#F2F3F7\",\"template\":{\"data\":{\"barpolar\":[{\"marker\":{\"line\":{\"color\":\"#E5ECF6\",\"width\":0.5},\"pattern\":{\"fillmode\":\"overlay\",\"size\":10,\"solidity\":0.2}},\"type\":\"barpolar\"}],\"bar\":[{\"error_x\":{\"color\":\"#2a3f5f\"},\"error_y\":{\"color\":\"#2a3f5f\"},\"marker\":{\"line\":{\"color\":\"#E5ECF6\",\"width\":0.5},\"pattern\":{\"fillmode\":\"overlay\",\"size\":10,\"solidity\":0.2}},\"type\":\"bar\"}],\"carpet\":[{\"aaxis\":{\"endlinecolor\":\"#2a3f5f\",\"gridcolor\":\"white\",\"linecolor\":\"white\",\"minorgridcolor\":\"white\",\"startlinecolor\":\"#2a3f5f\"},\"baxis\":{\"endlinecolor\":\"#2a3f5f\",\"gridcolor\":\"white\",\"linecolor\":\"white\",\"minorgridcolor\":\"white\",\"startlinecolor\":\"#2a3f5f\"},\"type\":\"carpet\"}],\"choropleth\":[{\"colorbar\":{\"outlinewidth\":0,\"ticks\":\"\"},\"type\":\"choropleth\"}],\"contourcarpet\":[{\"colorbar\":{\"outlinewidth\":0,\"ticks\":\"\"},\"type\":\"contourcarpet\"}],\"contour\":[{\"colorbar\":{\"outlinewidth\":0,\"ticks\":\"\"},\"colorscale\":[[0.0,\"#0d0887\"],[0.1111111111111111,\"#46039f\"],[0.2222222222222222,\"#7201a8\"],[0.3333333333333333,\"#9c179e\"],[0.4444444444444444,\"#bd3786\"],[0.5555555555555556,\"#d8576b\"],[0.6666666666666666,\"#ed7953\"],[0.7777777777777778,\"#fb9f3a\"],[0.8888888888888888,\"#fdca26\"],[1.0,\"#f0f921\"]],\"type\":\"contour\"}],\"heatmapgl\":[{\"colorbar\":{\"outlinewidth\":0,\"ticks\":\"\"},\"colorscale\":[[0.0,\"#0d0887\"],[0.1111111111111111,\"#46039f\"],[0.2222222222222222,\"#7201a8\"],[0.3333333333333333,\"#9c179e\"],[0.4444444444444444,\"#bd3786\"],[0.5555555555555556,\"#d8576b\"],[0.6666666666666666,\"#ed7953\"],[0.7777777777777778,\"#fb9f3a\"],[0.8888888888888888,\"#fdca26\"],[1.0,\"#f0f921\"]],\"type\":\"heatmapgl\"}],\"heatmap\":[{\"colorbar\":{\"outlinewidth\":0,\"ticks\":\"\"},\"colorscale\":[[0.0,\"#0d0887\"],[0.1111111111111111,\"#46039f\"],[0.2222222222222222,\"#7201a8\"],[0.3333333333333333,\"#9c179e\"],[0.4444444444444444,\"#bd3786\"],[0.5555555555555556,\"#d8576b\"],[0.6666666666666666,\"#ed7953\"],[0.7777777777777778,\"#fb9f3a\"],[0.8888888888888888,\"#fdca26\"],[1.0,\"#f0f921\"]],\"type\":\"heatmap\"}],\"histogram2dcontour\":[{\"colorbar\":{\"outlinewidth\":0,\"ticks\":\"\"},\"colorscale\":[[0.0,\"#0d0887\"],[0.1111111111111111,\"#46039f\"],[0.2222222222222222,\"#7201a8\"],[0.3333333333333333,\"#9c179e\"],[0.4444444444444444,\"#bd3786\"],[0.5555555555555556,\"#d8576b\"],[0.6666666666666666,\"#ed7953\"],[0.7777777777777778,\"#fb9f3a\"],[0.8888888888888888,\"#fdca26\"],[1.0,\"#f0f921\"]],\"type\":\"histogram2dcontour\"}],\"histogram2d\":[{\"colorbar\":{\"outlinewidth\":0,\"ticks\":\"\"},\"colorscale\":[[0.0,\"#0d0887\"],[0.1111111111111111,\"#46039f\"],[0.2222222222222222,\"#7201a8\"],[0.3333333333333333,\"#9c179e\"],[0.4444444444444444,\"#bd3786\"],[0.5555555555555556,\"#d8576b\"],[0.6666666666666666,\"#ed7953\"],[0.7777777777777778,\"#fb9f3a\"],[0.8888888888888888,\"#fdca26\"],[1.0,\"#f0f921\"]],\"type\":\"histogram2d\"}],\"histogram\":[{\"marker\":{\"pattern\":{\"fillmode\":\"overlay\",\"size\":10,\"solidity\":0.2}},\"type\":\"histogram\"}],\"mesh3d\":[{\"colorbar\":{\"outlinewidth\":0,\"ticks\":\"\"},\"type\":\"mesh3d\"}],\"parcoords\":[{\"line\":{\"colorbar\":{\"outlinewidth\":0,\"ticks\":\"\"}},\"type\":\"parcoords\"}],\"pie\":[{\"automargin\":true,\"type\":\"pie\"}],\"scatter3d\":[{\"line\":{\"colorbar\":{\"outlinewidth\":0,\"ticks\":\"\"}},\"marker\":{\"colorbar\":{\"outlinewidth\":0,\"ticks\":\"\"}},\"type\":\"scatter3d\"}],\"scattercarpet\":[{\"marker\":{\"colorbar\":{\"outlinewidth\":0,\"ticks\":\"\"}},\"type\":\"scattercarpet\"}],\"scattergeo\":[{\"marker\":{\"colorbar\":{\"outlinewidth\":0,\"ticks\":\"\"}},\"type\":\"scattergeo\"}],\"scattergl\":[{\"marker\":{\"colorbar\":{\"outlinewidth\":0,\"ticks\":\"\"}},\"type\":\"scattergl\"}],\"scattermapbox\":[{\"marker\":{\"colorbar\":{\"outlinewidth\":0,\"ticks\":\"\"}},\"type\":\"scattermapbox\"}],\"scatterpolargl\":[{\"marker\":{\"colorbar\":{\"outlinewidth\":0,\"ticks\":\"\"}},\"type\":\"scatterpolargl\"}],\"scatterpolar\":[{\"marker\":{\"colorbar\":{\"outlinewidth\":0,\"ticks\":\"\"}},\"type\":\"scatterpolar\"}],\"scatter\":[{\"fillpattern\":{\"fillmode\":\"overlay\",\"size\":10,\"solidity\":0.2},\"type\":\"scatter\"}],\"scatterternary\":[{\"marker\":{\"colorbar\":{\"outlinewidth\":0,\"ticks\":\"\"}},\"type\":\"scatterternary\"}],\"surface\":[{\"colorbar\":{\"outlinewidth\":0,\"ticks\":\"\"},\"colorscale\":[[0.0,\"#0d0887\"],[0.1111111111111111,\"#46039f\"],[0.2222222222222222,\"#7201a8\"],[0.3333333333333333,\"#9c179e\"],[0.4444444444444444,\"#bd3786\"],[0.5555555555555556,\"#d8576b\"],[0.6666666666666666,\"#ed7953\"],[0.7777777777777778,\"#fb9f3a\"],[0.8888888888888888,\"#fdca26\"],[1.0,\"#f0f921\"]],\"type\":\"surface\"}],\"table\":[{\"cells\":{\"fill\":{\"color\":\"#EBF0F8\"},\"line\":{\"color\":\"white\"}},\"header\":{\"fill\":{\"color\":\"#C8D4E3\"},\"line\":{\"color\":\"white\"}},\"type\":\"table\"}]},\"layout\":{\"annotationdefaults\":{\"arrowcolor\":\"#2a3f5f\",\"arrowhead\":0,\"arrowwidth\":1},\"autotypenumbers\":\"strict\",\"coloraxis\":{\"colorbar\":{\"outlinewidth\":0,\"ticks\":\"\"}},\"colorscale\":{\"diverging\":[[0,\"#8e0152\"],[0.1,\"#c51b7d\"],[0.2,\"#de77ae\"],[0.3,\"#f1b6da\"],[0.4,\"#fde0ef\"],[0.5,\"#f7f7f7\"],[0.6,\"#e6f5d0\"],[0.7,\"#b8e186\"],[0.8,\"#7fbc41\"],[0.9,\"#4d9221\"],[1,\"#276419\"]],\"sequential\":[[0.0,\"#0d0887\"],[0.1111111111111111,\"#46039f\"],[0.2222222222222222,\"#7201a8\"],[0.3333333333333333,\"#9c179e\"],[0.4444444444444444,\"#bd3786\"],[0.5555555555555556,\"#d8576b\"],[0.6666666666666666,\"#ed7953\"],[0.7777777777777778,\"#fb9f3a\"],[0.8888888888888888,\"#fdca26\"],[1.0,\"#f0f921\"]],\"sequentialminus\":[[0.0,\"#0d0887\"],[0.1111111111111111,\"#46039f\"],[0.2222222222222222,\"#7201a8\"],[0.3333333333333333,\"#9c179e\"],[0.4444444444444444,\"#bd3786\"],[0.5555555555555556,\"#d8576b\"],[0.6666666666666666,\"#ed7953\"],[0.7777777777777778,\"#fb9f3a\"],[0.8888888888888888,\"#fdca26\"],[1.0,\"#f0f921\"]]},\"colorway\":[\"#636efa\",\"#EF553B\",\"#00cc96\",\"#ab63fa\",\"#FFA15A\",\"#19d3f3\",\"#FF6692\",\"#B6E880\",\"#FF97FF\",\"#FECB52\"],\"font\":{\"color\":\"#2a3f5f\"},\"geo\":{\"bgcolor\":\"white\",\"lakecolor\":\"white\",\"landcolor\":\"#E5ECF6\",\"showlakes\":true,\"showland\":true,\"subunitcolor\":\"white\"},\"hoverlabel\":{\"align\":\"left\"},\"hovermode\":\"closest\",\"mapbox\":{\"style\":\"light\"},\"paper_bgcolor\":\"white\",\"plot_bgcolor\":\"#E5ECF6\",\"polar\":{\"angularaxis\":{\"gridcolor\":\"white\",\"linecolor\":\"white\",\"ticks\":\"\"},\"bgcolor\":\"#E5ECF6\",\"radialaxis\":{\"gridcolor\":\"white\",\"linecolor\":\"white\",\"ticks\":\"\"}},\"scene\":{\"xaxis\":{\"backgroundcolor\":\"#E5ECF6\",\"gridcolor\":\"white\",\"gridwidth\":2,\"linecolor\":\"white\",\"showbackground\":true,\"ticks\":\"\",\"zerolinecolor\":\"white\"},\"yaxis\":{\"backgroundcolor\":\"#E5ECF6\",\"gridcolor\":\"white\",\"gridwidth\":2,\"linecolor\":\"white\",\"showbackground\":true,\"ticks\":\"\",\"zerolinecolor\":\"white\"},\"zaxis\":{\"backgroundcolor\":\"#E5ECF6\",\"gridcolor\":\"white\",\"gridwidth\":2,\"linecolor\":\"white\",\"showbackground\":true,\"ticks\":\"\",\"zerolinecolor\":\"white\"}},\"shapedefaults\":{\"line\":{\"color\":\"#2a3f5f\"}},\"ternary\":{\"aaxis\":{\"gridcolor\":\"white\",\"linecolor\":\"white\",\"ticks\":\"\"},\"baxis\":{\"gridcolor\":\"white\",\"linecolor\":\"white\",\"ticks\":\"\"},\"bgcolor\":\"#E5ECF6\",\"caxis\":{\"gridcolor\":\"white\",\"linecolor\":\"white\",\"ticks\":\"\"}},\"title\":{\"x\":0.05},\"xaxis\":{\"automargin\":true,\"gridcolor\":\"white\",\"linecolor\":\"white\",\"ticks\":\"\",\"title\":{\"standoff\":15},\"zerolinecolor\":\"white\",\"zerolinewidth\":2},\"yaxis\":{\"automargin\":true,\"gridcolor\":\"white\",\"linecolor\":\"white\",\"ticks\":\"\",\"title\":{\"standoff\":15},\"zerolinecolor\":\"white\",\"zerolinewidth\":2}}},\"title\":{\"font\":{\"color\":\"#484848\"},\"text\":\"Nesrece po gradovima\"},\"xaxis\":{\"gridcolor\":\"#E1E5ED\",\"showgrid\":true,\"tickfont\":{\"color\":\"#505050\"},\"title\":{\"font\":{\"color\":\"#505050\"},\"text\":\"Grad\"},\"zerolinecolor\":\"#E1E5ED\"},\"yaxis\":{\"gridcolor\":\"#E1E5ED\",\"showgrid\":true,\"tickfont\":{\"color\":\"#505050\"},\"title\":{\"font\":{\"color\":\"#505050\"},\"text\":\"\"},\"zerolinecolor\":\"#E1E5ED\"}},                        {\"showLink\": true, \"linkText\": \"Export to plot.ly\", \"plotlyServerURL\": \"https://plot.ly\", \"responsive\": true}                    ).then(function(){\n",
       "                            \n",
       "var gd = document.getElementById('5fb70510-03b7-49c7-b989-2f709b339f17');\n",
       "var x = new MutationObserver(function (mutations, observer) {{\n",
       "        var display = window.getComputedStyle(gd).display;\n",
       "        if (!display || display === 'none') {{\n",
       "            console.log([gd, 'removed!']);\n",
       "            Plotly.purge(gd);\n",
       "            observer.disconnect();\n",
       "        }}\n",
       "}});\n",
       "\n",
       "// Listen for the removal of the full notebook cells\n",
       "var notebookContainer = gd.closest('#notebook-container');\n",
       "if (notebookContainer) {{\n",
       "    x.observe(notebookContainer, {childList: true});\n",
       "}}\n",
       "\n",
       "// Listen for the clearing of the current output cell\n",
       "var outputEl = gd.closest('.output');\n",
       "if (outputEl) {{\n",
       "    x.observe(outputEl, {childList: true});\n",
       "}}\n",
       "\n",
       "                        })                };                });            </script>        </div>"
      ]
     },
     "metadata": {},
     "output_type": "display_data"
    }
   ],
   "source": [
    "df.city_or_county.value_counts().head(10).iplot(kind = 'bar', theme = 'polar', title = 'Nesrece po gradovima', xTitle='Grad')"
   ]
  },
  {
   "cell_type": "markdown",
   "id": "9b7d39ba",
   "metadata": {},
   "source": [
    "* Top 5 gradova po nesrecama\n",
    "    * Cikago \n",
    "    * Baltimor\n",
    "    * Vasington\n",
    "    * Novi Orleans\n",
    "    * Filadelfija"
   ]
  },
  {
   "cell_type": "code",
   "execution_count": 10,
   "id": "9e85b09b",
   "metadata": {
    "scrolled": false
   },
   "outputs": [
    {
     "data": {
      "text/html": [
       "<div>\n",
       "<style scoped>\n",
       "    .dataframe tbody tr th:only-of-type {\n",
       "        vertical-align: middle;\n",
       "    }\n",
       "\n",
       "    .dataframe tbody tr th {\n",
       "        vertical-align: top;\n",
       "    }\n",
       "\n",
       "    .dataframe thead th {\n",
       "        text-align: right;\n",
       "    }\n",
       "</style>\n",
       "<table border=\"1\" class=\"dataframe\">\n",
       "  <thead>\n",
       "    <tr style=\"text-align: right;\">\n",
       "      <th></th>\n",
       "      <th>date</th>\n",
       "    </tr>\n",
       "  </thead>\n",
       "  <tbody>\n",
       "    <tr>\n",
       "      <th>2017-01-01</th>\n",
       "      <td>342</td>\n",
       "    </tr>\n",
       "    <tr>\n",
       "      <th>2017-07-04</th>\n",
       "      <td>248</td>\n",
       "    </tr>\n",
       "    <tr>\n",
       "      <th>2018-01-01</th>\n",
       "      <td>242</td>\n",
       "    </tr>\n",
       "  </tbody>\n",
       "</table>\n",
       "</div>"
      ],
      "text/plain": [
       "            date\n",
       "2017-01-01   342\n",
       "2017-07-04   248\n",
       "2018-01-01   242"
      ]
     },
     "execution_count": 10,
     "metadata": {},
     "output_type": "execute_result"
    }
   ],
   "source": [
    "dani = df['date'].value_counts().head(3)\n",
    "pd.DataFrame(dani)"
   ]
  },
  {
   "cell_type": "markdown",
   "id": "363bc699",
   "metadata": {},
   "source": [
    "* ####  po ovome vidimo da su najopasniji datumi upravo praznici, 1. januar (Nova Godina) i 4. jul (americki dan nezavisnosti)\n"
   ]
  },
  {
   "cell_type": "code",
   "execution_count": 15,
   "id": "de2ac80a",
   "metadata": {
    "scrolled": false
   },
   "outputs": [
    {
     "data": {
      "application/vnd.plotly.v1+json": {
       "config": {
        "linkText": "Export to plot.ly",
        "plotlyServerURL": "https://plot.ly",
        "showLink": true
       },
       "data": [
        {
         "labels": [
          1,
          2,
          "4+",
          3,
          4
         ],
         "marker": {
          "colors": [
           "rgba(255, 153, 51, 1.0)",
           "rgba(55, 128, 191, 1.0)",
           "rgba(50, 171, 96, 1.0)",
           "rgba(128, 0, 128, 1.0)",
           "rgba(219, 64, 82, 1.0)"
          ]
         },
         "name": "",
         "type": "pie",
         "values": [
          127548,
          7477,
          2309,
          2021,
          871
         ]
        }
       ],
       "layout": {
        "legend": {
         "bgcolor": "#F5F6F9",
         "font": {
          "color": "#4D5663"
         }
        },
        "paper_bgcolor": "#F5F6F9",
        "plot_bgcolor": "#F5F6F9",
        "title": "Raspodela broja oruzja ukljucenih u incident ",
        "titlefont": {
         "color": "#4D5663"
        }
       }
      },
      "text/html": [
       "<div>                            <div id=\"b60180cc-ffce-41d0-a3a7-9079c3a182bd\" class=\"plotly-graph-div\" style=\"height:525px; width:100%;\"></div>            <script type=\"text/javascript\">                require([\"plotly\"], function(Plotly) {                    window.PLOTLYENV=window.PLOTLYENV || {};\n",
       "                    window.PLOTLYENV.BASE_URL='https://plot.ly';                                    if (document.getElementById(\"b60180cc-ffce-41d0-a3a7-9079c3a182bd\")) {                    Plotly.newPlot(                        \"b60180cc-ffce-41d0-a3a7-9079c3a182bd\",                        [{\"labels\":[1.0,2.0,\"4+\",3.0,4.0],\"marker\":{\"colors\":[\"rgba(255, 153, 51, 1.0)\",\"rgba(55, 128, 191, 1.0)\",\"rgba(50, 171, 96, 1.0)\",\"rgba(128, 0, 128, 1.0)\",\"rgba(219, 64, 82, 1.0)\"]},\"name\":\"\",\"values\":[127548,7477,2309,2021,871],\"type\":\"pie\"}],                        {\"legend\":{\"bgcolor\":\"#F5F6F9\",\"font\":{\"color\":\"#4D5663\"}},\"paper_bgcolor\":\"#F5F6F9\",\"plot_bgcolor\":\"#F5F6F9\",\"titlefont\":{\"color\":\"#4D5663\"},\"title\":\"Raspodela broja oruzja ukljucenih u incident \"},                        {\"showLink\": true, \"linkText\": \"Export to plot.ly\", \"plotlyServerURL\": \"https://plot.ly\", \"responsive\": true}                    ).then(function(){\n",
       "                            \n",
       "var gd = document.getElementById('b60180cc-ffce-41d0-a3a7-9079c3a182bd');\n",
       "var x = new MutationObserver(function (mutations, observer) {{\n",
       "        var display = window.getComputedStyle(gd).display;\n",
       "        if (!display || display === 'none') {{\n",
       "            console.log([gd, 'removed!']);\n",
       "            Plotly.purge(gd);\n",
       "            observer.disconnect();\n",
       "        }}\n",
       "}});\n",
       "\n",
       "// Listen for the removal of the full notebook cells\n",
       "var notebookContainer = gd.closest('#notebook-container');\n",
       "if (notebookContainer) {{\n",
       "    x.observe(notebookContainer, {childList: true});\n",
       "}}\n",
       "\n",
       "// Listen for the clearing of the current output cell\n",
       "var outputEl = gd.closest('.output');\n",
       "if (outputEl) {{\n",
       "    x.observe(outputEl, {childList: true});\n",
       "}}\n",
       "\n",
       "                        })                };                });            </script>        </div>"
      ]
     },
     "metadata": {},
     "output_type": "display_data"
    }
   ],
   "source": [
    "broj_oruzja = df['n_guns_involved'].dropna().apply(lambda x: '4+' if x > 4 else float(x)) \n",
    "broj_oruzja = broj_oruzja.value_counts()\n",
    "data = pd.DataFrame({'labels': broj_oruzja.index,\n",
    "                   'values': broj_oruzja.values\n",
    "                  })\n",
    "data.iplot(kind='pie',labels='labels',values='values', title='Raspodela broja oruzja ukljucenih u incident ')"
   ]
  },
  {
   "cell_type": "markdown",
   "id": "8bd8b440",
   "metadata": {},
   "source": [
    "* #### po ovome jasno vidimo da je velika vecina nesreca jednostrana, odnosno da je korisceno samo 1 oruzje. Ocigledno je da nam treba jos oruzja kako bi ljudi mogli da se brane.  "
   ]
  },
  {
   "cell_type": "code",
   "execution_count": 21,
   "id": "faa0c3ee",
   "metadata": {
    "scrolled": false
   },
   "outputs": [
    {
     "data": {
      "text/html": [
       "<div>\n",
       "<style scoped>\n",
       "    .dataframe tbody tr th:only-of-type {\n",
       "        vertical-align: middle;\n",
       "    }\n",
       "\n",
       "    .dataframe tbody tr th {\n",
       "        vertical-align: top;\n",
       "    }\n",
       "\n",
       "    .dataframe thead th {\n",
       "        text-align: right;\n",
       "    }\n",
       "</style>\n",
       "<table border=\"1\" class=\"dataframe\">\n",
       "  <thead>\n",
       "    <tr style=\"text-align: right;\">\n",
       "      <th></th>\n",
       "      <th>city_or_county</th>\n",
       "    </tr>\n",
       "  </thead>\n",
       "  <tbody>\n",
       "    <tr>\n",
       "      <th>Los Angeles</th>\n",
       "      <td>3</td>\n",
       "    </tr>\n",
       "    <tr>\n",
       "      <th>Anaheim</th>\n",
       "      <td>3</td>\n",
       "    </tr>\n",
       "    <tr>\n",
       "      <th>Orlando</th>\n",
       "      <td>2</td>\n",
       "    </tr>\n",
       "    <tr>\n",
       "      <th>Salem</th>\n",
       "      <td>1</td>\n",
       "    </tr>\n",
       "    <tr>\n",
       "      <th>Van Nuys</th>\n",
       "      <td>1</td>\n",
       "    </tr>\n",
       "  </tbody>\n",
       "</table>\n",
       "</div>"
      ],
      "text/plain": [
       "             city_or_county\n",
       "Los Angeles               3\n",
       "Anaheim                   3\n",
       "Orlando                   2\n",
       "Salem                     1\n",
       "Van Nuys                  1"
      ]
     },
     "execution_count": 21,
     "metadata": {},
     "output_type": "execute_result"
    }
   ],
   "source": [
    "bande = df.loc[(df['n_guns_involved'] >= 200)]\n",
    "bande_df = bande['city_or_county'].value_counts().head(5)\n",
    "pd.DataFrame(bande_df)"
   ]
  },
  {
   "cell_type": "markdown",
   "id": "8bafb961",
   "metadata": {},
   "source": [
    "* #### Gradovi i broj nesreca u koje je bilo ukljuceno vise od 200 oruzja. Treba dalje istraziti da li je to delo aktivnih bandi iz tih gradova. "
   ]
  },
  {
   "cell_type": "code",
   "execution_count": 82,
   "id": "fde64ae6",
   "metadata": {},
   "outputs": [
    {
     "data": {
      "text/plain": [
       "<AxesSubplot:xlabel='godina'>"
      ]
     },
     "execution_count": 82,
     "metadata": {},
     "output_type": "execute_result"
    },
    {
     "data": {
      "image/png": "[encoded data removed]",
      "text/plain": [
       "<Figure size 1080x576 with 1 Axes>"
      ]
     },
     "metadata": {
      "needs_background": "light"
     },
     "output_type": "display_data"
    }
   ],
   "source": [
    "df['povredjeni'] = df['n_injured'] + df['n_killed']\n",
    "\n",
    "po_godinama = df['povredjeni'].groupby(by=df[\"godina\"]).sum()\n",
    "po_godinama\n",
    "po_godinama.plot(figsize=(15,8))"
   ]
  },
  {
   "cell_type": "markdown",
   "id": "9930bb7b",
   "metadata": {},
   "source": [
    "* #### Gornji plot ne prikazuje opadanje trenda nasilja vec podaci idu samo do marta 2018. godine"
   ]
  },
  {
   "cell_type": "code",
   "execution_count": 83,
   "id": "24c8e0d1",
   "metadata": {},
   "outputs": [
    {
     "data": {
      "application/vnd.plotly.v1+json": {
       "config": {
        "linkText": "Export to plot.ly",
        "plotlyServerURL": "https://plot.ly",
        "showLink": false
       },
       "data": [
        {
         "lat": [
          41.7592
         ],
         "locationmode": "USA-states",
         "lon": [
          -87.5628
         ],
         "marker": {
          "line": {
           "color": "rgb(40,40,40)",
           "width": 0.5
          },
          "size": 70.224,
          "sizemode": "area"
         },
         "name": "Illinois",
         "text": "Illinois<br>Gun abuse 17556",
         "type": "scattergeo"
        },
        {
         "lat": [
          33.909
         ],
         "locationmode": "USA-states",
         "lon": [
          -118.333
         ],
         "marker": {
          "line": {
           "color": "rgb(40,40,40)",
           "width": 0.5
          },
          "size": 65.224,
          "sizemode": "area"
         },
         "name": "California",
         "text": "California<br>Gun abuse 16306",
         "type": "scattergeo"
        },
        {
         "lat": [
          26.6968
         ],
         "locationmode": "USA-states",
         "lon": [
          -80.6837
         ],
         "marker": {
          "line": {
           "color": "rgb(40,40,40)",
           "width": 0.5
          },
          "size": 60.116,
          "sizemode": "area"
         },
         "name": "Florida",
         "text": "Florida<br>Gun abuse 15029",
         "type": "scattergeo"
        },
        {
         "lat": [
          29.6754
         ],
         "locationmode": "USA-states",
         "lon": [
          -95.5499
         ],
         "marker": {
          "line": {
           "color": "rgb(40,40,40)",
           "width": 0.5
          },
          "size": 54.308,
          "sizemode": "area"
         },
         "name": "Texas",
         "text": "Texas<br>Gun abuse 13577",
         "type": "scattergeo"
        },
        {
         "lat": [
          41.4455
         ],
         "locationmode": "USA-states",
         "lon": [
          -82.1377
         ],
         "marker": {
          "line": {
           "color": "rgb(40,40,40)",
           "width": 0.5
          },
          "size": 40.976,
          "sizemode": "area"
         },
         "name": "Ohio",
         "text": "Ohio<br>Gun abuse 10244",
         "type": "scattergeo"
        },
        {
         "lat": [
          43.011
         ],
         "locationmode": "USA-states",
         "lon": [
          -75.0058
         ],
         "marker": {
          "line": {
           "color": "rgb(40,40,40)",
           "width": 0.5
          },
          "size": 38.848,
          "sizemode": "area"
         },
         "name": "New York",
         "text": "New York<br>Gun abuse 9712",
         "type": "scattergeo"
        },
        {
         "lat": [
          40.3467
         ],
         "locationmode": "USA-states",
         "lon": [
          -79.8559
         ],
         "marker": {
          "line": {
           "color": "rgb(40,40,40)",
           "width": 0.5
          },
          "size": 35.716,
          "sizemode": "area"
         },
         "name": "Pennsylvania",
         "text": "Pennsylvania<br>Gun abuse 8929",
         "type": "scattergeo"
        },
        {
         "lat": [
          32.826
         ],
         "locationmode": "USA-states",
         "lon": [
          -83.6704
         ],
         "marker": {
          "line": {
           "color": "rgb(40,40,40)",
           "width": 0.5
          },
          "size": 35.7,
          "sizemode": "area"
         },
         "name": "Georgia",
         "text": "Georgia<br>Gun abuse 8925",
         "type": "scattergeo"
        },
        {
         "lat": [
          36.114
         ],
         "locationmode": "USA-states",
         "lon": [
          -79.9569
         ],
         "marker": {
          "line": {
           "color": "rgb(40,40,40)",
           "width": 0.5
          },
          "size": 34.956,
          "sizemode": "area"
         },
         "name": "North Carolina",
         "text": "North Carolina<br>Gun abuse 8739",
         "type": "scattergeo"
        },
        {
         "lat": [
          29.9435
         ],
         "locationmode": "USA-states",
         "lon": [
          -90.0836
         ],
         "marker": {
          "line": {
           "color": "rgb(40,40,40)",
           "width": 0.5
          },
          "size": 32.412,
          "sizemode": "area"
         },
         "name": "Louisiana",
         "text": "Louisiana<br>Gun abuse 8103",
         "type": "scattergeo"
        },
        {
         "lat": [
          35.0221
         ],
         "locationmode": "USA-states",
         "lon": [
          -85.2697
         ],
         "marker": {
          "line": {
           "color": "rgb(40,40,40)",
           "width": 0.5
          },
          "size": 30.504,
          "sizemode": "area"
         },
         "name": "Tennessee",
         "text": "Tennessee<br>Gun abuse 7626",
         "type": "scattergeo"
        },
        {
         "lat": [
          34.1868
         ],
         "locationmode": "USA-states",
         "lon": [
          -82.1638
         ],
         "marker": {
          "line": {
           "color": "rgb(40,40,40)",
           "width": 0.5
          },
          "size": 27.756,
          "sizemode": "area"
         },
         "name": "South Carolina",
         "text": "South Carolina<br>Gun abuse 6939",
         "type": "scattergeo"
        },
        {
         "lat": [
          38.7067
         ],
         "locationmode": "USA-states",
         "lon": [
          -90.2494
         ],
         "marker": {
          "line": {
           "color": "rgb(40,40,40)",
           "width": 0.5
          },
          "size": 26.524,
          "sizemode": "area"
         },
         "name": "Missouri",
         "text": "Missouri<br>Gun abuse 6631",
         "type": "scattergeo"
        },
        {
         "lat": [
          42.9371
         ],
         "locationmode": "USA-states",
         "lon": [
          -85.6853
         ],
         "marker": {
          "line": {
           "color": "rgb(40,40,40)",
           "width": 0.5
          },
          "size": 24.544,
          "sizemode": "area"
         },
         "name": "Michigan",
         "text": "Michigan<br>Gun abuse 6136",
         "type": "scattergeo"
        },
        {
         "lat": [
          42.4751
         ],
         "locationmode": "USA-states",
         "lon": [
          -70.9697
         ],
         "marker": {
          "line": {
           "color": "rgb(40,40,40)",
           "width": 0.5
          },
          "size": 23.924,
          "sizemode": "area"
         },
         "name": "Massachusetts",
         "text": "Massachusetts<br>Gun abuse 5981",
         "type": "scattergeo"
        },
        {
         "lat": [
          37.0177
         ],
         "locationmode": "USA-states",
         "lon": [
          -78.1562
         ],
         "marker": {
          "line": {
           "color": "rgb(40,40,40)",
           "width": 0.5
          },
          "size": 23.796,
          "sizemode": "area"
         },
         "name": "Virginia",
         "text": "Virginia<br>Gun abuse 5949",
         "type": "scattergeo"
        },
        {
         "lat": [
          39.7927
         ],
         "locationmode": "USA-states",
         "lon": [
          -86.0328
         ],
         "marker": {
          "line": {
           "color": "rgb(40,40,40)",
           "width": 0.5
          },
          "size": 23.408,
          "sizemode": "area"
         },
         "name": "Indiana",
         "text": "Indiana<br>Gun abuse 5852",
         "type": "scattergeo"
        },
        {
         "lat": [
          39.2899
         ],
         "locationmode": "USA-states",
         "lon": [
          -76.6412
         ],
         "marker": {
          "line": {
           "color": "rgb(40,40,40)",
           "width": 0.5
          },
          "size": 23.192,
          "sizemode": "area"
         },
         "name": "Maryland",
         "text": "Maryland<br>Gun abuse 5798",
         "type": "scattergeo"
        },
        {
         "lat": [
          34.7982
         ],
         "locationmode": "USA-states",
         "lon": [
          -87.6854
         ],
         "marker": {
          "line": {
           "color": "rgb(40,40,40)",
           "width": 0.5
          },
          "size": 21.884,
          "sizemode": "area"
         },
         "name": "Alabama",
         "text": "Alabama<br>Gun abuse 5471",
         "type": "scattergeo"
        },
        {
         "lat": [
          40.7268
         ],
         "locationmode": "USA-states",
         "lon": [
          -74.2116
         ],
         "marker": {
          "line": {
           "color": "rgb(40,40,40)",
           "width": 0.5
          },
          "size": 21.548,
          "sizemode": "area"
         },
         "name": "New Jersey",
         "text": "New Jersey<br>Gun abuse 5387",
         "type": "scattergeo"
        },
        {
         "lat": [
          43.092
         ],
         "locationmode": "USA-states",
         "lon": [
          -87.94
         ],
         "marker": {
          "line": {
           "color": "rgb(40,40,40)",
           "width": 0.5
          },
          "size": 19.148,
          "sizemode": "area"
         },
         "name": "Wisconsin",
         "text": "Wisconsin<br>Gun abuse 4787",
         "type": "scattergeo"
        },
        {
         "lat": [
          38.0485
         ],
         "locationmode": "USA-states",
         "lon": [
          -84.453
         ],
         "marker": {
          "line": {
           "color": "rgb(40,40,40)",
           "width": 0.5
          },
          "size": 16.628,
          "sizemode": "area"
         },
         "name": "Kentucky",
         "text": "Kentucky<br>Gun abuse 4157",
         "type": "scattergeo"
        },
        {
         "lat": [
          32.2649
         ],
         "locationmode": "USA-states",
         "lon": [
          -90.2141
         ],
         "marker": {
          "line": {
           "color": "rgb(40,40,40)",
           "width": 0.5
          },
          "size": 14.396,
          "sizemode": "area"
         },
         "name": "Mississippi",
         "text": "Mississippi<br>Gun abuse 3599",
         "type": "scattergeo"
        },
        {
         "lat": [
          36.2405
         ],
         "locationmode": "USA-states",
         "lon": [
          -95.9768
         ],
         "marker": {
          "line": {
           "color": "rgb(40,40,40)",
           "width": 0.5
          },
          "size": 13.82,
          "sizemode": "area"
         },
         "name": "Oklahoma",
         "text": "Oklahoma<br>Gun abuse 3455",
         "type": "scattergeo"
        },
        {
         "lat": [
          47.3149
         ],
         "locationmode": "USA-states",
         "lon": [
          -122.224
         ],
         "marker": {
          "line": {
           "color": "rgb(40,40,40)",
           "width": 0.5
          },
          "size": 13.736,
          "sizemode": "area"
         },
         "name": "Washington",
         "text": "Washington<br>Gun abuse 3434",
         "type": "scattergeo"
        },
        {
         "lat": [
          39.6518
         ],
         "locationmode": "USA-states",
         "lon": [
          -104.802
         ],
         "marker": {
          "line": {
           "color": "rgb(40,40,40)",
           "width": 0.5
          },
          "size": 12.804,
          "sizemode": "area"
         },
         "name": "Colorado",
         "text": "Colorado<br>Gun abuse 3201",
         "type": "scattergeo"
        },
        {
         "lat": [
          38.8978
         ],
         "locationmode": "USA-states",
         "lon": [
          -76.9717
         ],
         "marker": {
          "line": {
           "color": "rgb(40,40,40)",
           "width": 0.5
          },
          "size": 12.78,
          "sizemode": "area"
         },
         "name": "District of Columbia",
         "text": "District of Columbia<br>Gun abuse 3195",
         "type": "scattergeo"
        },
        {
         "lat": [
          41.7957
         ],
         "locationmode": "USA-states",
         "lon": [
          -72.6635
         ],
         "marker": {
          "line": {
           "color": "rgb(40,40,40)",
           "width": 0.5
          },
          "size": 12.268,
          "sizemode": "area"
         },
         "name": "Connecticut",
         "text": "Connecticut<br>Gun abuse 3067",
         "type": "scattergeo"
        },
        {
         "lat": [
          34.7314
         ],
         "locationmode": "USA-states",
         "lon": [
          -92.259
         ],
         "marker": {
          "line": {
           "color": "rgb(40,40,40)",
           "width": 0.5
          },
          "size": 11.368,
          "sizemode": "area"
         },
         "name": "Arkansas",
         "text": "Arkansas<br>Gun abuse 2842",
         "type": "scattergeo"
        },
        {
         "lat": [
          42.5085
         ],
         "locationmode": "USA-states",
         "lon": [
          -94.1894
         ],
         "marker": {
          "line": {
           "color": "rgb(40,40,40)",
           "width": 0.5
          },
          "size": 10.068,
          "sizemode": "area"
         },
         "name": "Iowa",
         "text": "Iowa<br>Gun abuse 2517",
         "type": "scattergeo"
        }
       ],
       "layout": {
        "geo": {
         "countrycolor": "rgb(255, 255, 255)",
         "countrywidth": 1,
         "landcolor": "rgb(217, 217, 217)",
         "projection": {
          "type": "miller usa"
         },
         "scope": "usa",
         "showland": true,
         "subunitcolor": "rgb(255, 255, 255)",
         "subunitwidth": 1
        },
        "title": "Interaktivna mapa"
       }
      },
      "text/html": [
       "<div>                            <div id=\"34c514ab-e0d7-4404-931e-29f340bc55b6\" class=\"plotly-graph-div\" style=\"height:525px; width:100%;\"></div>            <script type=\"text/javascript\">                require([\"plotly\"], function(Plotly) {                    window.PLOTLYENV=window.PLOTLYENV || {};                                    if (document.getElementById(\"34c514ab-e0d7-4404-931e-29f340bc55b6\")) {                    Plotly.newPlot(                        \"34c514ab-e0d7-4404-931e-29f340bc55b6\",                        [{\"type\":\"scattergeo\",\"locationmode\":\"USA-states\",\"lon\":[-87.5628],\"lat\":[41.7592],\"text\":\"Illinois<br>Gun abuse 17556\",\"marker\":{\"size\":70.224,\"line\":{\"width\":0.5,\"color\":\"rgb(40,40,40)\"},\"sizemode\":\"area\"},\"name\":\"Illinois\"},{\"type\":\"scattergeo\",\"locationmode\":\"USA-states\",\"lon\":[-118.333],\"lat\":[33.909],\"text\":\"California<br>Gun abuse 16306\",\"marker\":{\"size\":65.224,\"line\":{\"width\":0.5,\"color\":\"rgb(40,40,40)\"},\"sizemode\":\"area\"},\"name\":\"California\"},{\"type\":\"scattergeo\",\"locationmode\":\"USA-states\",\"lon\":[-80.6837],\"lat\":[26.6968],\"text\":\"Florida<br>Gun abuse 15029\",\"marker\":{\"size\":60.116,\"line\":{\"width\":0.5,\"color\":\"rgb(40,40,40)\"},\"sizemode\":\"area\"},\"name\":\"Florida\"},{\"type\":\"scattergeo\",\"locationmode\":\"USA-states\",\"lon\":[-95.5499],\"lat\":[29.6754],\"text\":\"Texas<br>Gun abuse 13577\",\"marker\":{\"size\":54.308,\"line\":{\"width\":0.5,\"color\":\"rgb(40,40,40)\"},\"sizemode\":\"area\"},\"name\":\"Texas\"},{\"type\":\"scattergeo\",\"locationmode\":\"USA-states\",\"lon\":[-82.1377],\"lat\":[41.4455],\"text\":\"Ohio<br>Gun abuse 10244\",\"marker\":{\"size\":40.976,\"line\":{\"width\":0.5,\"color\":\"rgb(40,40,40)\"},\"sizemode\":\"area\"},\"name\":\"Ohio\"},{\"type\":\"scattergeo\",\"locationmode\":\"USA-states\",\"lon\":[-75.0058],\"lat\":[43.011],\"text\":\"New York<br>Gun abuse 9712\",\"marker\":{\"size\":38.848,\"line\":{\"width\":0.5,\"color\":\"rgb(40,40,40)\"},\"sizemode\":\"area\"},\"name\":\"New York\"},{\"type\":\"scattergeo\",\"locationmode\":\"USA-states\",\"lon\":[-79.8559],\"lat\":[40.3467],\"text\":\"Pennsylvania<br>Gun abuse 8929\",\"marker\":{\"size\":35.716,\"line\":{\"width\":0.5,\"color\":\"rgb(40,40,40)\"},\"sizemode\":\"area\"},\"name\":\"Pennsylvania\"},{\"type\":\"scattergeo\",\"locationmode\":\"USA-states\",\"lon\":[-83.6704],\"lat\":[32.826],\"text\":\"Georgia<br>Gun abuse 8925\",\"marker\":{\"size\":35.7,\"line\":{\"width\":0.5,\"color\":\"rgb(40,40,40)\"},\"sizemode\":\"area\"},\"name\":\"Georgia\"},{\"type\":\"scattergeo\",\"locationmode\":\"USA-states\",\"lon\":[-79.9569],\"lat\":[36.114],\"text\":\"North Carolina<br>Gun abuse 8739\",\"marker\":{\"size\":34.956,\"line\":{\"width\":0.5,\"color\":\"rgb(40,40,40)\"},\"sizemode\":\"area\"},\"name\":\"North Carolina\"},{\"type\":\"scattergeo\",\"locationmode\":\"USA-states\",\"lon\":[-90.0836],\"lat\":[29.9435],\"text\":\"Louisiana<br>Gun abuse 8103\",\"marker\":{\"size\":32.412,\"line\":{\"width\":0.5,\"color\":\"rgb(40,40,40)\"},\"sizemode\":\"area\"},\"name\":\"Louisiana\"},{\"type\":\"scattergeo\",\"locationmode\":\"USA-states\",\"lon\":[-85.2697],\"lat\":[35.0221],\"text\":\"Tennessee<br>Gun abuse 7626\",\"marker\":{\"size\":30.504,\"line\":{\"width\":0.5,\"color\":\"rgb(40,40,40)\"},\"sizemode\":\"area\"},\"name\":\"Tennessee\"},{\"type\":\"scattergeo\",\"locationmode\":\"USA-states\",\"lon\":[-82.1638],\"lat\":[34.1868],\"text\":\"South Carolina<br>Gun abuse 6939\",\"marker\":{\"size\":27.756,\"line\":{\"width\":0.5,\"color\":\"rgb(40,40,40)\"},\"sizemode\":\"area\"},\"name\":\"South Carolina\"},{\"type\":\"scattergeo\",\"locationmode\":\"USA-states\",\"lon\":[-90.2494],\"lat\":[38.7067],\"text\":\"Missouri<br>Gun abuse 6631\",\"marker\":{\"size\":26.524,\"line\":{\"width\":0.5,\"color\":\"rgb(40,40,40)\"},\"sizemode\":\"area\"},\"name\":\"Missouri\"},{\"type\":\"scattergeo\",\"locationmode\":\"USA-states\",\"lon\":[-85.6853],\"lat\":[42.9371],\"text\":\"Michigan<br>Gun abuse 6136\",\"marker\":{\"size\":24.544,\"line\":{\"width\":0.5,\"color\":\"rgb(40,40,40)\"},\"sizemode\":\"area\"},\"name\":\"Michigan\"},{\"type\":\"scattergeo\",\"locationmode\":\"USA-states\",\"lon\":[-70.9697],\"lat\":[42.4751],\"text\":\"Massachusetts<br>Gun abuse 5981\",\"marker\":{\"size\":23.924,\"line\":{\"width\":0.5,\"color\":\"rgb(40,40,40)\"},\"sizemode\":\"area\"},\"name\":\"Massachusetts\"},{\"type\":\"scattergeo\",\"locationmode\":\"USA-states\",\"lon\":[-78.1562],\"lat\":[37.0177],\"text\":\"Virginia<br>Gun abuse 5949\",\"marker\":{\"size\":23.796,\"line\":{\"width\":0.5,\"color\":\"rgb(40,40,40)\"},\"sizemode\":\"area\"},\"name\":\"Virginia\"},{\"type\":\"scattergeo\",\"locationmode\":\"USA-states\",\"lon\":[-86.0328],\"lat\":[39.7927],\"text\":\"Indiana<br>Gun abuse 5852\",\"marker\":{\"size\":23.408,\"line\":{\"width\":0.5,\"color\":\"rgb(40,40,40)\"},\"sizemode\":\"area\"},\"name\":\"Indiana\"},{\"type\":\"scattergeo\",\"locationmode\":\"USA-states\",\"lon\":[-76.6412],\"lat\":[39.2899],\"text\":\"Maryland<br>Gun abuse 5798\",\"marker\":{\"size\":23.192,\"line\":{\"width\":0.5,\"color\":\"rgb(40,40,40)\"},\"sizemode\":\"area\"},\"name\":\"Maryland\"},{\"type\":\"scattergeo\",\"locationmode\":\"USA-states\",\"lon\":[-87.6854],\"lat\":[34.7982],\"text\":\"Alabama<br>Gun abuse 5471\",\"marker\":{\"size\":21.884,\"line\":{\"width\":0.5,\"color\":\"rgb(40,40,40)\"},\"sizemode\":\"area\"},\"name\":\"Alabama\"},{\"type\":\"scattergeo\",\"locationmode\":\"USA-states\",\"lon\":[-74.2116],\"lat\":[40.7268],\"text\":\"New Jersey<br>Gun abuse 5387\",\"marker\":{\"size\":21.548,\"line\":{\"width\":0.5,\"color\":\"rgb(40,40,40)\"},\"sizemode\":\"area\"},\"name\":\"New Jersey\"},{\"type\":\"scattergeo\",\"locationmode\":\"USA-states\",\"lon\":[-87.94],\"lat\":[43.092],\"text\":\"Wisconsin<br>Gun abuse 4787\",\"marker\":{\"size\":19.148,\"line\":{\"width\":0.5,\"color\":\"rgb(40,40,40)\"},\"sizemode\":\"area\"},\"name\":\"Wisconsin\"},{\"type\":\"scattergeo\",\"locationmode\":\"USA-states\",\"lon\":[-84.453],\"lat\":[38.0485],\"text\":\"Kentucky<br>Gun abuse 4157\",\"marker\":{\"size\":16.628,\"line\":{\"width\":0.5,\"color\":\"rgb(40,40,40)\"},\"sizemode\":\"area\"},\"name\":\"Kentucky\"},{\"type\":\"scattergeo\",\"locationmode\":\"USA-states\",\"lon\":[-90.2141],\"lat\":[32.2649],\"text\":\"Mississippi<br>Gun abuse 3599\",\"marker\":{\"size\":14.396,\"line\":{\"width\":0.5,\"color\":\"rgb(40,40,40)\"},\"sizemode\":\"area\"},\"name\":\"Mississippi\"},{\"type\":\"scattergeo\",\"locationmode\":\"USA-states\",\"lon\":[-95.9768],\"lat\":[36.2405],\"text\":\"Oklahoma<br>Gun abuse 3455\",\"marker\":{\"size\":13.82,\"line\":{\"width\":0.5,\"color\":\"rgb(40,40,40)\"},\"sizemode\":\"area\"},\"name\":\"Oklahoma\"},{\"type\":\"scattergeo\",\"locationmode\":\"USA-states\",\"lon\":[-122.224],\"lat\":[47.3149],\"text\":\"Washington<br>Gun abuse 3434\",\"marker\":{\"size\":13.736,\"line\":{\"width\":0.5,\"color\":\"rgb(40,40,40)\"},\"sizemode\":\"area\"},\"name\":\"Washington\"},{\"type\":\"scattergeo\",\"locationmode\":\"USA-states\",\"lon\":[-104.802],\"lat\":[39.6518],\"text\":\"Colorado<br>Gun abuse 3201\",\"marker\":{\"size\":12.804,\"line\":{\"width\":0.5,\"color\":\"rgb(40,40,40)\"},\"sizemode\":\"area\"},\"name\":\"Colorado\"},{\"type\":\"scattergeo\",\"locationmode\":\"USA-states\",\"lon\":[-76.9717],\"lat\":[38.8978],\"text\":\"District of Columbia<br>Gun abuse 3195\",\"marker\":{\"size\":12.78,\"line\":{\"width\":0.5,\"color\":\"rgb(40,40,40)\"},\"sizemode\":\"area\"},\"name\":\"District of Columbia\"},{\"type\":\"scattergeo\",\"locationmode\":\"USA-states\",\"lon\":[-72.6635],\"lat\":[41.7957],\"text\":\"Connecticut<br>Gun abuse 3067\",\"marker\":{\"size\":12.268,\"line\":{\"width\":0.5,\"color\":\"rgb(40,40,40)\"},\"sizemode\":\"area\"},\"name\":\"Connecticut\"},{\"type\":\"scattergeo\",\"locationmode\":\"USA-states\",\"lon\":[-92.259],\"lat\":[34.7314],\"text\":\"Arkansas<br>Gun abuse 2842\",\"marker\":{\"size\":11.368,\"line\":{\"width\":0.5,\"color\":\"rgb(40,40,40)\"},\"sizemode\":\"area\"},\"name\":\"Arkansas\"},{\"type\":\"scattergeo\",\"locationmode\":\"USA-states\",\"lon\":[-94.1894],\"lat\":[42.5085],\"text\":\"Iowa<br>Gun abuse 2517\",\"marker\":{\"size\":10.068,\"line\":{\"width\":0.5,\"color\":\"rgb(40,40,40)\"},\"sizemode\":\"area\"},\"name\":\"Iowa\"}],                        {\"title\":\"Interaktivna mapa\",\"geo\":{\"scope\":\"usa\",\"projection\":{\"type\":\"miller usa\"},\"showland\":true,\"landcolor\":\"rgb(217, 217, 217)\",\"subunitwidth\":1,\"countrywidth\":1,\"subunitcolor\":\"rgb(255, 255, 255)\",\"countrycolor\":\"rgb(255, 255, 255)\"}},                        {\"responsive\": true}                    ).then(function(){\n",
       "                            \n",
       "var gd = document.getElementById('34c514ab-e0d7-4404-931e-29f340bc55b6');\n",
       "var x = new MutationObserver(function (mutations, observer) {{\n",
       "        var display = window.getComputedStyle(gd).display;\n",
       "        if (!display || display === 'none') {{\n",
       "            console.log([gd, 'removed!']);\n",
       "            Plotly.purge(gd);\n",
       "            observer.disconnect();\n",
       "        }}\n",
       "}});\n",
       "\n",
       "// Listen for the removal of the full notebook cells\n",
       "var notebookContainer = gd.closest('#notebook-container');\n",
       "if (notebookContainer) {{\n",
       "    x.observe(notebookContainer, {childList: true});\n",
       "}}\n",
       "\n",
       "// Listen for the clearing of the current output cell\n",
       "var outputEl = gd.closest('.output');\n",
       "if (outputEl) {{\n",
       "    x.observe(outputEl, {childList: true});\n",
       "}}\n",
       "\n",
       "                        })                };                });            </script>        </div>"
      ]
     },
     "metadata": {},
     "output_type": "display_data"
    },
    {
     "data": {
      "text/plain": [
       "<Figure size 432x288 with 0 Axes>"
      ]
     },
     "metadata": {},
     "output_type": "display_data"
    }
   ],
   "source": [
    "item=df['state'].value_counts().head(30).index.tolist()\n",
    "item_size=df['state'].value_counts().head(30).values.tolist()\n",
    "\n",
    "cities = []\n",
    "scale = 250\n",
    "\n",
    "\n",
    "for i in range(len(item)):\n",
    "    lim = item[i]\n",
    "    df_sub = df.loc[df['state']==lim][:1]\n",
    "    city = dict(\n",
    "        type = 'scattergeo',\n",
    "        locationmode = 'USA-states',\n",
    "        lon = df_sub['longitude'],\n",
    "        lat = df_sub['latitude'],\n",
    "        text = item[i] + '<br>Gun abuse ' + str(item_size[i]),\n",
    "        marker = dict(\n",
    "            size = item_size[i]/scale,\n",
    "            line = dict(width=0.5, color='rgb(40,40,40)'),\n",
    "            sizemode = 'area'\n",
    "        ),\n",
    "        name = lim )\n",
    "    cities.append(city)\n",
    "\n",
    "layout = dict(\n",
    "        title = 'Interaktivna mapa',\n",
    "        \n",
    "        geo = dict(\n",
    "            scope='usa',\n",
    "            projection=dict( type='miller usa' ),\n",
    "            showland = True,\n",
    "            landcolor = 'rgb(217, 217, 217)',\n",
    "            subunitwidth=1,\n",
    "            countrywidth=1,\n",
    "            subunitcolor=\"rgb(255, 255, 255)\",\n",
    "            countrycolor=\"rgb(255, 255, 255)\"\n",
    "        ),\n",
    "    )\n",
    "\n",
    "fig = dict( data=cities, layout=layout )\n",
    "py.iplot( fig, validate=False, filename='d3-bubble-map-populations' )\n",
    "plt.savefig('abc.png')   "
   ]
  }
 ],
 "metadata": {
  "kernelspec": {
   "display_name": "Python 3 (ipykernel)",
   "language": "python",
   "name": "python3"
  },
  "language_info": {
   "codemirror_mode": {
    "name": "ipython",
    "version": 3
   },
   "file_extension": ".py",
   "mimetype": "text/x-python",
   "name": "python",
   "nbconvert_exporter": "python",
   "pygments_lexer": "ipython3",
   "version": "3.9.7"
  }
 },
 "nbformat": 4,
 "nbformat_minor": 5
}
